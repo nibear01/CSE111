{
  "nbformat": 4,
  "nbformat_minor": 0,
  "metadata": {
    "colab": {
      "provenance": [],
      "authorship_tag": "ABX9TyP9sRrWtZ5C6nqX5ZeE1H9a"
    },
    "kernelspec": {
      "name": "python3",
      "display_name": "Python 3"
    },
    "language_info": {
      "name": "python"
    }
  },
  "cells": [
    {
      "cell_type": "markdown",
      "source": [
        "#Functions"
      ],
      "metadata": {
        "id": "mAMs03xqMwC9"
      }
    },
    {
      "cell_type": "code",
      "source": [
        "#Task 1\n",
        "\n",
        "def AmiKenoMota(height, weight):\n",
        "  f_height = height/100\n",
        "  BMI = weight / (f_height)**2\n",
        "\n",
        "  if BMI < 18.5:\n",
        "    print(\"Score is {:.1f}. You are Underweight\".format(BMI))\n",
        "  elif 18.5<= BMI <= 24.9:\n",
        "    print(\"Score is {:.1f}. You are Normal\".format(BMI))\n",
        "  elif 25<= BMI <=30:\n",
        "    print(\"Score is {:.1f}. You are Overweight\".format(BMI))\n",
        "  elif BMI > 30:\n",
        "    print(\"Score is {:.1f}. You are Obese\".format(BMI))\n",
        "\n",
        "AmiKenoMota(int(input(\"Enter Height: \")),int(input(\"Enter Weight: \")))\n"
      ],
      "metadata": {
        "colab": {
          "base_uri": "https://localhost:8080/"
        },
        "id": "YjWAuQkuM3Bc",
        "outputId": "3d87f46b-0cb5-4bd6-f81f-5360515fec48"
      },
      "execution_count": null,
      "outputs": [
        {
          "output_type": "stream",
          "name": "stdout",
          "text": [
            "Enter Height: 175\n",
            "Enter Weight: 96\n",
            "Score is 31.3. You are Obese\n"
          ]
        }
      ]
    },
    {
      "cell_type": "code",
      "source": [
        "#Task 1(Using return function)\n",
        "\n",
        "def AmiKenoMota(height, weight):\n",
        "  f_height = height/100\n",
        "  BMI = weight / (f_height)**2\n",
        "\n",
        "  if BMI < 18.5:\n",
        "    return \"Score is {:.1f}. You are Underweight\".format(BMI)\n",
        "  elif 18.5<= BMI <= 24.9:\n",
        "    return \"Score is {:.1f}. You are Normal\".format(BMI)\n",
        "  elif 25<= BMI <=30:\n",
        "    return \"Score is {:.1f}. You are Overweight\".format(BMI)\n",
        "  elif BMI > 30:\n",
        "    return \"Score is {:.1f}. You are Obese\".format(BMI)\n",
        "\n",
        "print(AmiKenoMota(int(input(\"Enter Height: \")),int(input(\"Enter Weight: \"))))"
      ],
      "metadata": {
        "colab": {
          "base_uri": "https://localhost:8080/"
        },
        "id": "qEXa_ssPaZPa",
        "outputId": "7acc2be6-b6e9-4506-e5d1-3ad8591e929e"
      },
      "execution_count": null,
      "outputs": [
        {
          "output_type": "stream",
          "name": "stdout",
          "text": [
            "Enter Height: 175\n",
            "Enter Weight: 96\n",
            "Score is 31.3. You are Obese\n"
          ]
        }
      ]
    },
    {
      "cell_type": "code",
      "source": [
        "#Task2\n",
        "\n",
        "def FoodPanda(burger, place = \"Mohakhali\"):\n",
        "  BBQChickenCheeseBurger = 250\n",
        "  BeefBurger = 170\n",
        "  NagaDrums = 200\n",
        "  total = 0\n",
        "  if place == \"Mohakhali\":\n",
        "    d_charge = 40\n",
        "  else:\n",
        "    d_charge = 60\n",
        "  if burger == \"Beef Burger\":\n",
        "    total = BeefBurger + (BeefBurger/100) * 8 + d_charge\n",
        "    print(total)\n",
        "  elif burger == \"BBQ Chicken Cheese Burger\":\n",
        "    total = BBQChickenCheeseBurger + (BBQChickenCheeseBurger/100) * 8 + d_charge\n",
        "    print(total)\n",
        "  elif burger == \"Naga Drums\":\n",
        "    total = NagaDrums + (NagaDrums/100) * 8 + d_charge\n",
        "    print(total)\n",
        "\n",
        "FoodPanda(\"Beef Burger\")"
      ],
      "metadata": {
        "colab": {
          "base_uri": "https://localhost:8080/"
        },
        "id": "SDuxkUSYSOQ9",
        "outputId": "e4432010-ceba-4633-ed32-52a38201565f"
      },
      "execution_count": null,
      "outputs": [
        {
          "output_type": "stream",
          "name": "stdout",
          "text": [
            "223.6\n"
          ]
        }
      ]
    },
    {
      "cell_type": "code",
      "source": [
        "#Task 3\n",
        "\n",
        "def replace_domain(user, new_d, old_d = \"Sheba.xyz\"):\n",
        "  emp_str1 = \"\"\n",
        "  emp_str2 = \"\"\n",
        "  pos = 0\n",
        "  for i in range(len(user)):\n",
        "    if user[i] == \"@\":\n",
        "      pos = i+1\n",
        "      emp_str1 += user[i]\n",
        "      break\n",
        "    else:\n",
        "      emp_str1 += user[i]\n",
        "\n",
        "  for j in range(pos,len(user)):\n",
        "    emp_str2 += user[j]\n",
        "\n",
        "  if emp_str2 == new_d:\n",
        "    emp_str1 += new_d\n",
        "    print(\"Unchanged: {}\".format(emp_str1))\n",
        "  elif emp_str2 == old_d:\n",
        "    emp_str1 += new_d\n",
        "    print(\"Changed: {}\".format(emp_str1))\n",
        "\n",
        "replace_domain(\"bob@Sheba.xyz\",\"Sheba.xyz\")"
      ],
      "metadata": {
        "colab": {
          "base_uri": "https://localhost:8080/"
        },
        "id": "tEpRc6QXZa3Q",
        "outputId": "32285e3c-7a7b-44ce-926f-8c983b19f774"
      },
      "execution_count": null,
      "outputs": [
        {
          "output_type": "stream",
          "name": "stdout",
          "text": [
            "Unchanged: bob@Sheba.xyz\n"
          ]
        }
      ]
    },
    {
      "cell_type": "code",
      "source": [
        "#Task 4\n",
        "\n",
        "def palindrome(user):\n",
        "  user= user.split( )\n",
        "  final = ''\n",
        "  res = ''\n",
        "  i = -1\n",
        "  for i in user:\n",
        "    res += i\n",
        "  print(res)\n",
        "  while i > -len(res) -1:\n",
        "    final +=res[i]\n",
        "    i -=1\n",
        "  print(user)\n",
        "\n",
        "  if final == user:\n",
        "    print(\"Palindrome\")\n",
        "  else:\n",
        "    print(\"Not a palindrome\")\n",
        "\n",
        "palindrome(\"madam\")"
      ],
      "metadata": {
        "colab": {
          "base_uri": "https://localhost:8080/"
        },
        "id": "Lbs5CvX3j8lM",
        "outputId": "e97c3bb4-d861-456a-caee-b17a4764d561"
      },
      "execution_count": null,
      "outputs": [
        {
          "output_type": "stream",
          "name": "stdout",
          "text": [
            "['madam']\n",
            "Not a palindrome\n"
          ]
        }
      ]
    },
    {
      "cell_type": "code",
      "source": [
        "#task 4(alternate way)\n",
        "\n",
        "def palindrome(user):\n",
        "\n",
        "  user = user.split( )\n",
        "  e_str = ''\n",
        "  final = ''\n",
        "  for i in range(len(user)):\n",
        "    e_str = e_str + user[i]\n",
        "\n",
        "  for j in range(-1,-len(e_str)-1,-1):\n",
        "    final = final + e_str[j]\n",
        "\n",
        "  if final == e_str:\n",
        "    print(\"Palindrome\")\n",
        "  else:\n",
        "    print(\"Not a palindrome\")\n",
        "\n",
        "palindrome(\"hello\")"
      ],
      "metadata": {
        "colab": {
          "base_uri": "https://localhost:8080/"
        },
        "id": "p-zW2-pqCsie",
        "outputId": "4e12e164-504b-483e-c15a-db28fd3ecbf6"
      },
      "execution_count": null,
      "outputs": [
        {
          "output_type": "stream",
          "name": "stdout",
          "text": [
            "Not a palindrome\n"
          ]
        }
      ]
    },
    {
      "cell_type": "code",
      "source": [
        "#Task 5\n",
        "\n",
        "def DayCount(day):\n",
        "  year = day//365\n",
        "  rem_day = day%365\n",
        "  month = rem_day//30\n",
        "  days = rem_day%30\n",
        "\n",
        "  print(f\"{year} years ,{month} months and {days} days\")\n",
        "DayCount(4000)"
      ],
      "metadata": {
        "colab": {
          "base_uri": "https://localhost:8080/"
        },
        "id": "lEj19IbWm7cn",
        "outputId": "c7a82c10-34b7-4711-f595-229e1c41339a"
      },
      "execution_count": null,
      "outputs": [
        {
          "output_type": "stream",
          "name": "stdout",
          "text": [
            "10 years ,11 months and 20 days\n"
          ]
        }
      ]
    },
    {
      "cell_type": "code",
      "source": [
        "#task 6\n",
        "\n"
      ],
      "metadata": {
        "id": "LIwkq0vMqz0B"
      },
      "execution_count": null,
      "outputs": []
    },
    {
      "cell_type": "code",
      "source": [
        "from IPython.display import clear_output\n",
        "import time\n",
        "#All the variables needed\n",
        "board = [[1,2,3],[4,5,6],[7,8,9]] #The players will be placing their characters in this list\n",
        "#and the whole game be conducted based on the current status of this list.\n",
        "current_player_char = 'X' #The character of the current player\n",
        "next_player_char = 'O' # The character of the next player\n",
        "totalInputs = 9 #Since there are 9 slots in total in the whole board.\n",
        "winner = None\n",
        "\n",
        "def checkHorizontal():\n",
        "\n",
        "\n",
        "def checkVertical():\n",
        "  pass #Remove the pass statement and write your code.\n",
        "\n",
        "def checkDiagonal():\n",
        "  pass #Remove the pass statement and write your code.\n",
        "\n",
        "\n",
        "def checkBoard():\n",
        "  pass #Remove the pass statement and write your code.\n",
        "\n",
        "def placeCharacterOnBoard(pos):\n",
        "  pass #Remove the pass statement and write your code.\n",
        "\n",
        "#This function prints the current status of the 'board' list in particular format.\n",
        "def printCurrentBoard():\n",
        "  print(\"-------------\")\n",
        "  for eachRow in board:\n",
        "    print(\"|\",end=\"\")\n",
        "    for eachCol in eachRow:\n",
        "      print(f\" {eachCol} \",end=\"|\")\n",
        "    print() #To move to the next row\n",
        "    print(\"-------------\")\n",
        "\n",
        "#This function will be simulating the whole game.\n",
        "def runGame():\n",
        "  global current_player_char\n",
        "  global next_player_char\n",
        "  global winner\n",
        "  welcome_msg = '''Welcome to the TIC-TAC-TOE game. The first player to place character on the board will be Player 1(Character X) and the other player will be Player 2(Character O).'''\n",
        "  print(welcome_msg)\n",
        "  inputCount= 0 #This variable is for counting the number of inputs and controlling the loop based on it.\n",
        "  while inputCount < totalInputs:\n",
        "    printCurrentBoard() #This function prints the current state of the board as a player needs to see it before making the next move.\n",
        "    position = int(input(f\"Player {(inputCount%2)+1},enter a position that does not contain any X or O:\")) #The user needs to enter a position that does contain any X or O.\n",
        "    validityofInput = placeCharacterOnBoard(position) #validityofInput will be 1 if the user inputs a valid \"position\"; otherwise it will be 0.\n",
        "    inputCount+= validityofInput # If the inputs a valid \"position\", the inputCount will increase by one; otherwise it will remain as it is.\n",
        "    if inputCount>=5: #There is no need to check the board before 5 valid inputs as there will be no winners before 5 valid inputs.\n",
        "      if checkBoard(): #If checkBoard() returned True then current player won the game.\n",
        "        winner = \"Player 1\" if current_player_char == 'X' else \"Player 2\"\n",
        "        clear_output() #This function clears the output panel.\n",
        "        break\n",
        "    if validityofInput: #Only if the player inputs a valid \"position\", the player characters will be swapped for the next move.\n",
        "      current_player_char,next_player_char = next_player_char,current_player_char #The players will place characters alternatively. So if X is the current player's character, in the next turn O will be the current player's character.\n",
        "    clear_output() #This function clears the output panel before printing the current board status for the next player.\n",
        "  printCurrentBoard()\n",
        "  #After the while loop if the value of  winner is still none, that means the game ended in a draw; otherwise we have a winner.\n",
        "  if winner != None:\n",
        "    print(f\"Well done, {winner}. You have won the game.\")\n",
        "  else:\n",
        "    print(f\"The game ended in a draw\")\n",
        "\n",
        "\n",
        "runGame()\n"
      ],
      "metadata": {
        "id": "bursw87mwHCx"
      },
      "execution_count": null,
      "outputs": []
    },
    {
      "cell_type": "code",
      "source": [
        "from IPython.display import clear_output\n",
        "import time\n",
        "\n",
        "board = [[1, 2, 3], [4, 5, 6], [7, 8, 9]]\n",
        "current_player_char = 'X'\n",
        "next_player_char = 'O'\n",
        "totalInputs = 9\n",
        "winner = None\n",
        "\n",
        "def checkHorizontal():\n",
        "    for i in range(len(board)):\n",
        "        if board[i][0] == board[i][1] == board[i][2]:\n",
        "            return True\n",
        "    return False\n",
        "\n",
        "\n",
        "def checkVertical():\n",
        "    for j in range(len(board)):\n",
        "        if board[0][j] == board[1][j] == board[2][j]:\n",
        "            return True\n",
        "    return False\n",
        "\n",
        "\n",
        "def checkDiagonal():\n",
        "    if board[0][0] == board[1][1] == board[2][2] or board[0][2] == board[1][1] == board[2][0]:\n",
        "        return True\n",
        "    return False\n",
        "\n",
        "\n",
        "def checkBoard():\n",
        "    if checkHorizontal() or checkVertical() or checkDiagonal():\n",
        "        return True\n",
        "    return False\n",
        "\n",
        "\n",
        "def placeCharacterOnBoard(pos):\n",
        "    for row in range(len(board)):\n",
        "        for column in range(len(board)):\n",
        "            if board[row][column] == pos:\n",
        "                board[row][column] = current_player_char\n",
        "                return 1\n",
        "    return 0\n",
        "\n",
        "def printCurrentBoard():\n",
        "    print(\"-------------\")\n",
        "    for eachRow in board:\n",
        "        print(\"|\", end=\"\")\n",
        "        for eachCol in eachRow:\n",
        "            print(f\" {eachCol} \", end=\"|\")\n",
        "        print()\n",
        "        print(\"-------------\")\n",
        "\n",
        "def runGame():\n",
        "    global current_player_char\n",
        "    global next_player_char\n",
        "    global winner\n",
        "    welcome_msg = '''Welcome to the TIC-TAC-TOE game. The first player to place a character on the board will be Player 1 (Character X) and the other player will be Player 2 (Character O).'''\n",
        "    print(welcome_msg)\n",
        "    inputCount = 0\n",
        "    while inputCount < totalInputs:\n",
        "        printCurrentBoard()\n",
        "        position = int(input(f\"Player {(inputCount % 2) + 1}, enter a position that does not contain any X or O:\"))\n",
        "        validityofInput = placeCharacterOnBoard(position)\n",
        "        inputCount += validityofInput\n",
        "        if inputCount >= 5:\n",
        "            if checkBoard():\n",
        "                winner = \"Player 1\" if current_player_char == 'X' else \"Player 2\"\n",
        "                clear_output()\n",
        "                break\n",
        "        if validityofInput:\n",
        "            current_player_char, next_player_char = next_player_char, current_player_char\n",
        "        clear_output()\n",
        "    printCurrentBoard()\n",
        "    if winner is not None:\n",
        "        print(f\"Well done, {winner}. You have won the game.\")\n",
        "    else:\n",
        "        print(\"The game ended in a draw.\")\n",
        "\n",
        "\n",
        "runGame()\n"
      ],
      "metadata": {
        "colab": {
          "base_uri": "https://localhost:8080/"
        },
        "id": "8x5K_t2NadCe",
        "outputId": "5d2c6682-6fae-403c-db7a-bafb763b68a1"
      },
      "execution_count": null,
      "outputs": [
        {
          "output_type": "stream",
          "name": "stdout",
          "text": [
            "-------------\n",
            "| X | X | X |\n",
            "-------------\n",
            "| O | O | 6 |\n",
            "-------------\n",
            "| 7 | 8 | 9 |\n",
            "-------------\n",
            "Well done, Player 1. You have won the game.\n"
          ]
        }
      ]
    }
  ]
}