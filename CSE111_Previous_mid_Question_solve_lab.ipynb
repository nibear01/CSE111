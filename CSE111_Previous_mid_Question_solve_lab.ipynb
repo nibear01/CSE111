{
  "nbformat": 4,
  "nbformat_minor": 0,
  "metadata": {
    "colab": {
      "provenance": [],
      "authorship_tag": "ABX9TyO/WfDn3/uw8Plvx4QaSAm3"
    },
    "kernelspec": {
      "name": "python3",
      "display_name": "Python 3"
    },
    "language_info": {
      "name": "python"
    }
  },
  "cells": [
    {
      "cell_type": "markdown",
      "source": [
        "#SPRING 23\n"
      ],
      "metadata": {
        "id": "8_zL5kPmmErg"
      }
    },
    {
      "cell_type": "code",
      "execution_count": null,
      "metadata": {
        "colab": {
          "base_uri": "https://localhost:8080/"
        },
        "id": "BJ7LZpLFeQi1",
        "outputId": "0129de4f-db77-4cd8-c885-83b44d847c48"
      },
      "outputs": [
        {
          "output_type": "stream",
          "name": "stdout",
          "text": [
            "Brand Name: Miyako\n",
            "Ingredients: Coffee beans, Milk, Sugar\n"
          ]
        }
      ],
      "source": [
        "#Task 1\n",
        "class CoffeeMachine:\n",
        "  def __init__(self, name):\n",
        "    self.name = name\n",
        "    self.items = []\n",
        "    print(f\"Brand Name: {self.name}\")\n",
        "\n",
        "  def insertIngredients(self, *ingredients):\n",
        "    for i in ingredients:\n",
        "      self.items.append(i)\n",
        "\n",
        "  def getDetails(self):\n",
        "    final = \"Ingredients: \"\n",
        "    for i in range(len(self.items)):\n",
        "      if i == (len(self.items) - 1):\n",
        "        final += f\"{self.items[i]}\"\n",
        "      else:\n",
        "        final += f'{self.items[i]}, '\n",
        "    return final\n",
        "\n",
        "cm1 = CoffeeMachine(\"Miyako\")\n",
        "cm1.insertIngredients(\"Coffee beans\", \"Milk\", \"Sugar\")\n",
        "print(cm1.getDetails())"
      ]
    },
    {
      "cell_type": "code",
      "source": [
        "#Task 3\n",
        "class Sphere:\n",
        "  def __init__(self, id, radius = 1, color = \"White\"):\n",
        "    self.id = id\n",
        "    self.radius = radius\n",
        "    self.color = color\n",
        "    self.vol = (4/3)*(3.1416)*(self.radius)**3\n",
        "    self.mix_color = 0\n",
        "\n",
        "  def merge_sphere(self, *Spheres):\n",
        "    for i in Spheres:\n",
        "      self.vol += i.vol\n",
        "      self.mix_color += 1\n",
        "    print(\"Spheres are being merged\")\n",
        "\n",
        "  def printDetails(self):\n",
        "    if self.mix_color > 0:\n",
        "      self.color = \"Mixied Color\"\n",
        "    else:\n",
        "      self.color = \"self.color\"\n",
        "    print(f\"Sphere ID: {self.id} \\nColor: {self.color} \\nVolume: {self.vol}\")\n",
        "\n",
        "sphere1 = Sphere(\"Sphere 1\")\n",
        "print(\"1***************\")\n",
        "sphere1.printDetails()\n",
        "print(\"2***************\")\n",
        "sphere2 = Sphere(\"Sphere 2\", 3)\n",
        "print(\"3***************\")\n",
        "sphere2.printDetails()\n",
        "print(\"4***************\")\n",
        "sphere3 = Sphere(\"Sphere 3\", 2)\n",
        "print(\"5***************\")\n",
        "sphere3.printDetails()\n",
        "print(\"6***************\")\n",
        "sphere3.merge_sphere(sphere1,sphere2)\n",
        "print(\"7***************\")\n",
        "sphere3.printDetails()\n",
        "print(\"8***************\")\n",
        "sphere4 = Sphere(\"Sphere 4\", 5, \"Purple\")\n",
        "print(\"9***************\")\n",
        "sphere4.merge_sphere(sphere3)\n",
        "print(\"10***************\")\n",
        "sphere4.printDetails()"
      ],
      "metadata": {
        "colab": {
          "base_uri": "https://localhost:8080/"
        },
        "id": "yXQRF-u4hjCF",
        "outputId": "d65f0f4d-8040-452d-feff-9a14d3781724"
      },
      "execution_count": null,
      "outputs": [
        {
          "output_type": "stream",
          "name": "stdout",
          "text": [
            "1***************\n",
            "Sphere ID: Sphere 1 \n",
            "Color: self.color \n",
            "Volume: 4.1888\n",
            "2***************\n",
            "3***************\n",
            "Sphere ID: Sphere 2 \n",
            "Color: self.color \n",
            "Volume: 113.09759999999999\n",
            "4***************\n",
            "5***************\n",
            "Sphere ID: Sphere 3 \n",
            "Color: self.color \n",
            "Volume: 33.5104\n",
            "6***************\n",
            "Spheres are being merged\n",
            "7***************\n",
            "Sphere ID: Sphere 3 \n",
            "Color: Mixied Color \n",
            "Volume: 150.7968\n",
            "8***************\n",
            "9***************\n",
            "Spheres are being merged\n",
            "10***************\n",
            "Sphere ID: Sphere 4 \n",
            "Color: Mixied Color \n",
            "Volume: 674.3967999999999\n"
          ]
        }
      ]
    },
    {
      "cell_type": "markdown",
      "source": [
        "#FALL 22"
      ],
      "metadata": {
        "id": "APCPINhBmJ8Y"
      }
    },
    {
      "cell_type": "code",
      "source": [
        "#Task 1\n",
        "class Spotify:\n",
        "  def __init__(self, *song):\n",
        "    self.song = song\n",
        "    print(f\"Genre: {self.song[0]}\")\n",
        "\n",
        "  def show_playlist(self):\n",
        "    final = \"Song list: \"\n",
        "    for i in range(len(self.song)):\n",
        "      if i == 0:\n",
        "        continue\n",
        "      elif i == (len(self.song) - 1):\n",
        "        final += f\"{self.song[i]}\"\n",
        "      else:\n",
        "        final += f'{self.song[i]}, '\n",
        "    return final\n",
        "\n",
        "rock= Spotify(\"Heavy Metal\", \"This Fire Burns\", \"Here I Am\")\n",
        "print(rock.show_playlist())"
      ],
      "metadata": {
        "colab": {
          "base_uri": "https://localhost:8080/"
        },
        "id": "qo_OwKEamMYQ",
        "outputId": "1f7a00f5-ff0d-4aa3-b37d-8a1f5b527a43"
      },
      "execution_count": null,
      "outputs": [
        {
          "output_type": "stream",
          "name": "stdout",
          "text": [
            "Genre: Heavy Metal\n",
            "Song list: This Fire Burns, Here I Am\n"
          ]
        }
      ]
    }
  ]
}