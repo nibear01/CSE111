{
  "nbformat": 4,
  "nbformat_minor": 0,
  "metadata": {
    "colab": {
      "provenance": [],
      "authorship_tag": "ABX9TyP+rmKiGy8tp+5iKthDh9ii"
    },
    "kernelspec": {
      "name": "python3",
      "display_name": "Python 3"
    },
    "language_info": {
      "name": "python"
    }
  },
  "cells": [
    {
      "cell_type": "markdown",
      "source": [
        "#String\n"
      ],
      "metadata": {
        "id": "2oa8DVt4JYf-"
      }
    },
    {
      "cell_type": "code",
      "execution_count": null,
      "metadata": {
        "colab": {
          "base_uri": "https://localhost:8080/"
        },
        "id": "2s0sIdohHuTZ",
        "outputId": "0f202aa7-f64b-445b-c818-c8e76f9d49b1"
      },
      "outputs": [
        {
          "output_type": "stream",
          "name": "stdout",
          "text": [
            "Enter a string: HOusE\n",
            "HOUSE\n"
          ]
        }
      ],
      "source": [
        "#1\n",
        "\n",
        "user = input(\"Enter a string: \")\n",
        "upper = 0\n",
        "lower = 0\n",
        "\n",
        "for i in user:\n",
        "  if 65<=ord(i)<=90:\n",
        "    upper += 1\n",
        "  elif 97<=ord(i)<=122:\n",
        "    lower += 1\n",
        "  else:\n",
        "    pass\n",
        "\n",
        "if upper > lower:\n",
        "  print(user.upper())\n",
        "else:\n",
        "  print(user.lower())\n"
      ]
    },
    {
      "cell_type": "code",
      "source": [
        "#2\n",
        "\n",
        "user = input(\"Enter a string: \")\n",
        "num = 0\n",
        "mix = 0\n",
        "word = 0\n",
        "for i in user:\n",
        "  if 65<=ord(i)<=90 or 97<=ord(i)<=122:\n",
        "    word += 1\n",
        "  elif 48<=ord(i)<=57:\n",
        "    num += 1\n",
        "  else:\n",
        "    mix += 1\n",
        "\n",
        "if len(user) == num:\n",
        "  print(\"NUMBER\")\n",
        "elif len(user) == word:\n",
        "  print(\"WORD\")\n",
        "else:\n",
        "  print(\"MIXED\")"
      ],
      "metadata": {
        "colab": {
          "base_uri": "https://localhost:8080/"
        },
        "id": "rCtGrXd0K-L1",
        "outputId": "e2a96369-7b03-43bf-831c-73061db5e8c5"
      },
      "execution_count": null,
      "outputs": [
        {
          "output_type": "stream",
          "name": "stdout",
          "text": [
            "Enter a string: akffgaeg\n",
            "WORD\n"
          ]
        }
      ]
    },
    {
      "cell_type": "code",
      "source": [
        "#3\n",
        "\n",
        "user = input(\"Enter a string: \")\n",
        "emp_str1 = ''\n",
        "\n",
        "for i in range(len(user)):\n",
        "  if 65<=ord(user[i])<=90:\n",
        "    pos = i\n",
        "    break\n",
        "  else:\n",
        "    emp_str1 += user[i]\n",
        "\n",
        "emp_str2 = ''\n",
        "for j in range(pos+1,len(user)):\n",
        "  if 65<=ord(user[j])<=90:\n",
        "    break\n",
        "  else:\n",
        "    emp_str2 += user[j]\n",
        "\n",
        "print(emp_str2)\n",
        "\n",
        "#print(emp_str1)"
      ],
      "metadata": {
        "colab": {
          "base_uri": "https://localhost:8080/"
        },
        "id": "YyzAlAuBNLA2",
        "outputId": "6b0910c8-50d1-48dd-fc34-1336a3d188bb"
      },
      "execution_count": null,
      "outputs": [
        {
          "output_type": "stream",
          "name": "stdout",
          "text": [
            "Enter a string: baNgladEsh\n",
            "glad\n"
          ]
        }
      ]
    },
    {
      "cell_type": "code",
      "source": [
        "#4\n",
        "\n",
        "user = input(\"Enter a string: \")\n",
        "emp_str1 = ''\n",
        "emp_str2 = ''\n",
        "emp_str3 = ''\n",
        "emp_str4 =''\n",
        "\n",
        "for i in range(len(user)):\n",
        "  if user[i] == \",\":\n",
        "    pos = i + 2\n",
        "    break\n",
        "  else:\n",
        "    emp_str1 += user[i]\n",
        "\n",
        "for j in range(pos,len(user)):\n",
        "  emp_str2 += user[j]\n",
        "\n",
        "for k in range(len(emp_str1)):\n",
        "  for l in range(len(emp_str2)):\n",
        "    if emp_str1[k] == emp_str2[l] and emp_str2[l] not in emp_str3:\n",
        "      emp_str3 += emp_str2[l]\n",
        "\n",
        "for m in range(len(emp_str1)):\n",
        "  for n in range(len(emp_str2)):\n",
        "    if emp_str1[m] == emp_str2[n]:\n",
        "      emp_str4 += emp_str1[m]\n",
        "\n",
        "common = emp_str4 + emp_str3\n",
        "if len(common) > 1:\n",
        "  print(common)\n",
        "else:\n",
        "  print(\"Nothing in common.\")"
      ],
      "metadata": {
        "colab": {
          "base_uri": "https://localhost:8080/"
        },
        "id": "Aa5DlNhEOztW",
        "outputId": "9f58ed1c-150b-4988-daf2-fe3515e12e06"
      },
      "execution_count": null,
      "outputs": [
        {
          "output_type": "stream",
          "name": "stdout",
          "text": [
            "Enter a string: dean, tom\n",
            "Nothing in common.\n"
          ]
        }
      ]
    },
    {
      "cell_type": "code",
      "source": [
        "#4(alternate way)\n",
        "\n",
        "user1 = input()\n",
        "user2 = input()\n",
        "emp_str1 = ''\n",
        "emp_str2 = ''\n",
        "for i in range(len(user1)):\n",
        "  for j in range(len(user2)):\n",
        "    if user1[i] == user2[j] and user2[j] not in emp_str1:\n",
        "      emp_str1 += user2[j]\n",
        "\n",
        "for m in range(len(user1)):\n",
        "  for n in range(len(user2)):\n",
        "    if user1[m] == user2[n]:\n",
        "      emp_str2 += user1[m]\n",
        "\n",
        "common = emp_str2 + emp_str1\n",
        "if len(common) > 1:\n",
        "  print(common)\n",
        "else:\n",
        "  print(\"Nothing in common.\")"
      ],
      "metadata": {
        "colab": {
          "base_uri": "https://localhost:8080/"
        },
        "id": "kWc-GYYQY3YB",
        "outputId": "4149a415-cef4-4fe3-bd88-c7c6d503e84f"
      },
      "execution_count": null,
      "outputs": [
        {
          "output_type": "stream",
          "name": "stdout",
          "text": [
            "harry\n",
            "hermoine\n",
            "hrrhr\n"
          ]
        }
      ]
    },
    {
      "cell_type": "code",
      "source": [
        "#5\n",
        "\n",
        "user = input(\"Enter your password: \")\n",
        "lower = 0\n",
        "upper = 0\n",
        "digit = 0\n",
        "char = 0\n",
        "for i in user:\n",
        "  if 65<=ord(i)<=90:\n",
        "    upper = 1\n",
        "  elif 97<=ord(i)<=122:\n",
        "    lower = 1\n",
        "  elif 48<=ord(i)<=58:\n",
        "    digit = 1\n",
        "  elif 32<=ord(i)<=47:\n",
        "    char = 1\n",
        "\n",
        "if lower == 1 and upper == 1 and digit == 1 and char == 1:\n",
        "  print(\"OK\")\n",
        "elif upper != 1 and digit != 1 and char != 1:\n",
        "  print(\"Uppercase character missing, Digit missing, Special character missing\")\n",
        "elif digit != 1:\n",
        "  print(\"Digit Missing\")"
      ],
      "metadata": {
        "colab": {
          "base_uri": "https://localhost:8080/"
        },
        "id": "Og6Gj5yqX-Yw",
        "outputId": "3a65f378-f424-4386-9fcf-a3c6e721c777"
      },
      "execution_count": null,
      "outputs": [
        {
          "output_type": "stream",
          "name": "stdout",
          "text": [
            "Enter your password: ohmybracu\n",
            "Uppercase character missing, Digit missing, Special character missing\n"
          ]
        }
      ]
    },
    {
      "cell_type": "markdown",
      "source": [
        "#list\n"
      ],
      "metadata": {
        "id": "a8R08YP3bWYb"
      }
    },
    {
      "cell_type": "code",
      "source": [
        "#1\n",
        "\n",
        "new = []\n",
        "while True:\n",
        "  user = input()\n",
        "  if user == \"STOP\":\n",
        "    break\n",
        "  else:\n",
        "    new.append(int(user))\n",
        "\n",
        "new1 = []\n",
        "for i in new:\n",
        "  if i not in new1:\n",
        "    new1.append(i)\n",
        "\n",
        "for j in new1:\n",
        "  count = new.count(j)\n",
        "  print(f\"{j} - {count} times\")"
      ],
      "metadata": {
        "colab": {
          "base_uri": "https://localhost:8080/"
        },
        "id": "FO4OXbufbV69",
        "outputId": "5eeb92ed-9164-4ba9-c525-6635d736dfde"
      },
      "execution_count": null,
      "outputs": [
        {
          "output_type": "stream",
          "name": "stdout",
          "text": [
            "10\n",
            "20\n",
            "20\n",
            "30\n",
            "10\n",
            "50\n",
            "90\n",
            "STOP\n",
            "10 - 2 times\n",
            "20 - 2 times\n",
            "30 - 1 times\n",
            "50 - 1 times\n",
            "90 - 1 times\n"
          ]
        }
      ]
    },
    {
      "cell_type": "code",
      "source": [
        "#2\n",
        "\n",
        "n = int(input(\"Enter step number: \"))\n",
        "sum = 0\n",
        "lst1 = None\n",
        "for i in range(n):\n",
        "  user = input().split()\n",
        "  total = 0\n",
        "  for j in range(len(user)):\n",
        "    total += int(user[j])\n",
        "  if total > sum:\n",
        "    sum = total\n",
        "    lst1 = user\n",
        "\n",
        "lst2 = []\n",
        "for k in lst1:\n",
        "  k = int(k)\n",
        "  lst2.append(k)\n",
        "\n",
        "print(\"Highest sum: \",sum)\n",
        "print(\"respected list: \",lst2)"
      ],
      "metadata": {
        "colab": {
          "base_uri": "https://localhost:8080/"
        },
        "id": "B0lr_sH1d_AG",
        "outputId": "91ef4232-a34d-4b21-d547-dd5745d45ea9"
      },
      "execution_count": null,
      "outputs": [
        {
          "output_type": "stream",
          "name": "stdout",
          "text": [
            "Enter step number: 4\n",
            "1 2 3\n",
            "4 5 6\n",
            "7 8 9\n",
            "10 11 12\n",
            "Highest sum:  33\n",
            "respected list:  [10, 11, 12]\n"
          ]
        }
      ]
    },
    {
      "cell_type": "code",
      "source": [
        "#3\n",
        "list1 = [2,3,6]\n",
        "list2 = [3,4,5]\n",
        "new = []\n",
        "for i in range(len(list1)):\n",
        "  for j in range(len(list2)):\n",
        "    new.append(list1[i]*list2[j])\n",
        "print(new)"
      ],
      "metadata": {
        "colab": {
          "base_uri": "https://localhost:8080/"
        },
        "id": "GJ5Q0XnWfqH6",
        "outputId": "81dbc81e-7cbd-4ad8-d6bc-5fdd02457ec7"
      },
      "execution_count": null,
      "outputs": [
        {
          "output_type": "stream",
          "name": "stdout",
          "text": [
            "[6, 8, 10, 9, 12, 15, 18, 24, 30]\n"
          ]
        }
      ]
    },
    {
      "cell_type": "code",
      "source": [
        "#4\n",
        "\n",
        "while True:\n",
        "  user = input()\n",
        "  if user == \"STOP\":\n",
        "    break\n",
        "  user1 = user.split(\" \")\n",
        "  new = []\n",
        "  for i in user1:\n",
        "    new.append(int(i))\n",
        "    length = len(new)\n",
        "    count = 0\n",
        "    for j in range(length):\n",
        "      if j > 0:\n",
        "        if (-(length-1) <= (new[j] - new[j-1]) <= (length-1)):\n",
        "          count += 1\n",
        "  if count == length - 1:\n",
        "    print(\"UB Jumper\")\n",
        "  else:\n",
        "    print(\"Not UB Jumper\")"
      ],
      "metadata": {
        "id": "OgeXGcSfHsDi",
        "colab": {
          "base_uri": "https://localhost:8080/"
        },
        "outputId": "d52ecd03-0b01-4812-fb36-f8c4ebc4009b"
      },
      "execution_count": null,
      "outputs": [
        {
          "name": "stdout",
          "output_type": "stream",
          "text": [
            "1 4 2 3\n",
            "UB Jumper\n",
            "2 1 4 6 10\n",
            "UB Jumper\n",
            "1 4 2 -1 6\n",
            "Not UB Jumper\n",
            "STOP\n"
          ]
        }
      ]
    },
    {
      "cell_type": "code",
      "source": [
        "#5\n",
        "person = input().split(\" \")\n",
        "part = input().split(\" \")\n",
        "new = []\n",
        "for i in part:\n",
        "  if int(i) + int(person[1]) <=5:\n",
        "    new.append(int(i))\n",
        "if len(new)%3 == 0:\n",
        "  print(len(new)//3)\n",
        "else:\n",
        "  print(0)"
      ],
      "metadata": {
        "colab": {
          "base_uri": "https://localhost:8080/"
        },
        "id": "_0AdSvaiHzSL",
        "outputId": "54fc215e-f256-4dab-adb0-5ad83a1892c3"
      },
      "execution_count": null,
      "outputs": [
        {
          "output_type": "stream",
          "name": "stdout",
          "text": [
            "5 2\n",
            "0 4 5 1 0\n",
            "1\n"
          ]
        }
      ]
    },
    {
      "cell_type": "markdown",
      "source": [
        "#Dictionary & Tuple\n"
      ],
      "metadata": {
        "id": "RC3kApNkH048"
      }
    },
    {
      "cell_type": "code",
      "source": [
        "#1\n",
        "user1 = input().split(\", \")\n",
        "user2 = input().split(\", \")\n",
        "dict1 = {}\n",
        "dict2 = {}\n",
        "dict3 = {}\n",
        "\n",
        "for i in range(len(user1)):\n",
        "  num1 = user1[i]\n",
        "  pos = 0\n",
        "  for j in range(len(num1)):\n",
        "    if num1[j] == \":\":\n",
        "      pos = j\n",
        "      break\n",
        "  dict1[num1[0:pos]] = int(num1[pos+2:len(num1)+1])\n",
        "\n",
        "for k in range(len(user2)):\n",
        "  num2 = user2[k]\n",
        "  pos = 0\n",
        "  for l in range(len(num2)):\n",
        "    if num2[l] == \":\":\n",
        "      pos = l\n",
        "      break\n",
        "  dict2[num2[0:pos]] = int(num2[pos+2:len(num2)+1])\n",
        "\n",
        "for key in dict1.keys():\n",
        "  if key in dict2:\n",
        "    dict3[key] = dict1[key] + dict2[key]\n",
        "  else:\n",
        "    dict3[key] = dict1[key]\n",
        "\n",
        "for key in dict2.keys():\n",
        "  if key not in dict1:\n",
        "    dict3[key] = dict2[key]\n",
        "\n",
        "print(dict3)\n",
        "\n",
        "list1 = []\n",
        "for value in dict3.values():\n",
        "  list1.append(value)\n",
        "\n",
        "print(tuple(sorted(set(list1))))\n",
        "\n",
        "#Input:\n",
        "#dict1 = a: 100, b: 100, c: 200, d: 300\n",
        "#dict2 = a: 300, b: 200, d: 400, e: 200"
      ],
      "metadata": {
        "colab": {
          "base_uri": "https://localhost:8080/"
        },
        "id": "GhE34se_Rh79",
        "outputId": "58fcda45-5d4b-4b4d-fc93-a71cd30eaac2"
      },
      "execution_count": null,
      "outputs": [
        {
          "output_type": "stream",
          "name": "stdout",
          "text": [
            "a: 100, b: 100, c: 200, d: 300\n",
            "a: 300, b: 200, d: 400, e: 200\n",
            "{'a': 400, 'b': 300, 'c': 200, 'd': 700, 'e': 200}\n",
            "(200, 300, 400, 700)\n"
          ]
        }
      ]
    },
    {
      "cell_type": "code",
      "source": [
        "#2\n",
        "new = []\n",
        "while True:\n",
        "  user = input()\n",
        "  if user == \"STOP\":\n",
        "    break\n",
        "  else:\n",
        "    new.append(user)\n",
        "\n",
        "new1 = {}\n",
        "for i in new:\n",
        "  if i not in new1:\n",
        "    new1[i] = 1\n",
        "  else:\n",
        "    new1[i]+=1\n",
        "\n",
        "for key,value in new1.items():\n",
        "  print(\"{} - {} times\".format(key,value))"
      ],
      "metadata": {
        "colab": {
          "base_uri": "https://localhost:8080/"
        },
        "id": "pmoEitzg5ovz",
        "outputId": "8f89197f-f2c8-494e-cc56-a887e5e64616"
      },
      "execution_count": null,
      "outputs": [
        {
          "output_type": "stream",
          "name": "stdout",
          "text": [
            "10\n",
            "20\n",
            "20\n",
            "30\n",
            "10\n",
            "50\n",
            "90\n",
            "STOP\n",
            "10 - 2 times\n",
            "20 - 2 times\n",
            "30 - 1 times\n",
            "50 - 1 times\n",
            "90 - 1 times\n"
          ]
        }
      ]
    },
    {
      "cell_type": "code",
      "source": [
        "#3\n",
        "user = input().split(\",\")\n",
        "dict1 = {}\n",
        "for i in user:\n",
        "  key, value = i.strip().split(\":\")\n",
        "  dict1[key.strip()] = value.strip()\n",
        "\n",
        "dict2 = {}\n",
        "for key,value in dict1.items():\n",
        "  if value not in dict2:\n",
        "    dict2[value] = [key]\n",
        "  else:\n",
        "    dict2[value].append(key)\n",
        "\n",
        "print(dict2)"
      ],
      "metadata": {
        "colab": {
          "base_uri": "https://localhost:8080/"
        },
        "id": "eVGX0HjW8e0i",
        "outputId": "daa01430-ee31-45ab-d301-e5ab3bbecb10"
      },
      "execution_count": null,
      "outputs": [
        {
          "output_type": "stream",
          "name": "stdout",
          "text": [
            "key1 : value1, key2 : value2, key3 : value1\n",
            "{'value1': ['key1', 'key3'], 'value2': ['key2']}\n"
          ]
        }
      ]
    },
    {
      "cell_type": "code",
      "source": [
        "#4\n",
        "\n",
        "keypad = {\n",
        "    '.': '1', ',': '11', '?': '111', '!': '1111', ':': '11111',\n",
        "    'A': '2', 'B': '22', 'C': '222',\n",
        "    'D': '3', 'E': '33', 'F': '333',\n",
        "    'G': '4', 'H': '44', 'I': '444',\n",
        "    'J': '5', 'K': '55', 'L': '555',\n",
        "    'M': '6', 'N': '66', 'O': '666',\n",
        "    'P': '7', 'Q': '77', 'R': '777', 'S': '7777',\n",
        "    'T': '8', 'U': '88', 'V': '888',\n",
        "    'W': '9', 'X': '99', 'Y': '999', 'Z': '9999',\n",
        "    ' ': '0'\n",
        "}\n",
        "\n",
        "user = input().upper()\n",
        "final = ''\n",
        "for i in user:\n",
        "  if i in keypad:\n",
        "    final = final + keypad[i]\n",
        "print(final)"
      ],
      "metadata": {
        "id": "N5IEYbtyIoo7",
        "colab": {
          "base_uri": "https://localhost:8080/"
        },
        "outputId": "e1c95205-6233-4602-d7cb-dd7e3cd34b52"
      },
      "execution_count": null,
      "outputs": [
        {
          "output_type": "stream",
          "name": "stdout",
          "text": [
            "Hello, World!\n",
            "4433555555666110966677755531111\n"
          ]
        }
      ]
    }
  ]
}