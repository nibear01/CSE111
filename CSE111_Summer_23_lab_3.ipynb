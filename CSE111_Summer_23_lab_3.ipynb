{
  "nbformat": 4,
  "nbformat_minor": 0,
  "metadata": {
    "colab": {
      "provenance": [],
      "authorship_tag": "ABX9TyNNHYNJPM/PUJrHKJj3M5Sz",
      "include_colab_link": true
    },
    "kernelspec": {
      "name": "python3",
      "display_name": "Python 3"
    },
    "language_info": {
      "name": "python"
    }
  },
  "cells": [
    {
      "cell_type": "markdown",
      "metadata": {
        "id": "view-in-github",
        "colab_type": "text"
      },
      "source": [
        "<a href=\"https://colab.research.google.com/github/nibear01/CSE111/blob/main/CSE111_Summer_23_lab_3.ipynb\" target=\"_parent\"><img src=\"https://colab.research.google.com/assets/colab-badge.svg\" alt=\"Open In Colab\"/></a>"
      ]
    },
    {
      "cell_type": "code",
      "execution_count": null,
      "metadata": {
        "colab": {
          "base_uri": "https://localhost:8080/"
        },
        "id": "8X_IARwYQr_a",
        "outputId": "4de05549-e955-40c5-b596-372396baea19"
      },
      "outputs": [
        {
          "output_type": "stream",
          "name": "stdout",
          "text": [
            "=====================================\n",
            "User Name: Bilbo\n",
            "Balance: 1.0\n",
            "Account Type: Savings\n",
            "=====================================\n",
            "User Name: Frodo\n",
            "Balance: 1.0\n",
            "Account Type: Business\n",
            "=====================================\n",
            "New account balance of Bilbo is 15.75\n",
            "New account balance of Frodo is 700.5\n"
          ]
        }
      ],
      "source": [
        "#Task 1\n",
        "\n",
        "class BankAccount:\n",
        "  def __init__(self, user_name, account_type):\n",
        "    self.user_name = user_name\n",
        "    self.account_type = account_type\n",
        "    self.balance = 1.0\n",
        "\n",
        "account1 = BankAccount(\"Bilbo\", \"Savings\")\n",
        "print(\"=====================================\")\n",
        "print(f\"User Name: {account1.user_name}\")\n",
        "print(f\"Balance: {account1.balance}\")\n",
        "print(f\"Account Type:\", account1.account_type)\n",
        "print(\"=====================================\")\n",
        "account2 = BankAccount(\"Frodo\", \"Business\")\n",
        "print(f\"User Name: {account2.user_name}\")\n",
        "print(f\"Balance: {account2.balance}\")\n",
        "print(f\"Account Type: {account2.account_type}\")\n",
        "print(\"=====================================\")\n",
        "\n",
        "\n",
        "account1.balance = 15.75\n",
        "account2.balance =  700.5\n",
        "print(f\"New account balance of Bilbo is {account1.balance}\")\n",
        "print(f\"New account balance of Frodo is {account2.balance}\")"
      ]
    },
    {
      "cell_type": "code",
      "source": [
        "account1.balance = 15.75\n",
        "print(f\"New account balance of Bilbo is {account1.balance}\")\n",
        "account2.balance =  700.5\n",
        "print(f\"New account balance of Frodo is {account2.balance}\")"
      ],
      "metadata": {
        "colab": {
          "base_uri": "https://localhost:8080/"
        },
        "id": "O1AsJ9h1StaI",
        "outputId": "23a36fd3-a613-4574-8f7f-ae35d2df6d98"
      },
      "execution_count": null,
      "outputs": [
        {
          "output_type": "stream",
          "name": "stdout",
          "text": [
            "New account balance of Bilbo is 15.75\n",
            "New account balance of Frodo is 700.5\n"
          ]
        }
      ]
    },
    {
      "cell_type": "code",
      "source": [
        "#Task 2(i)\n",
        "\n",
        "class  MangoTree:\n",
        "  def __init__(self, variety):\n",
        "    self.variety = variety\n",
        "    self.height = 1\n",
        "    self.number_of_mangoes = 0\n",
        "\n",
        "\n",
        "mangoTree1= MangoTree(\"Gopalbhog\")\n",
        "# Display the details of the mango tree\n",
        "print(\"=====================================\")\n",
        "print(\"Mango Tree Details:\")\n",
        "print(f\"Variety: {mangoTree1.variety}\")\n",
        "print(f\"Height: {mangoTree1.height} meter(s)\")\n",
        "print(f\"Number of mangoes on the tree: {mangoTree1.number_of_mangoes}\")\n",
        "print(\"=====================================\")\n",
        "mangoTree2= MangoTree(\"Amrapali\")\n",
        "# Display the details of the mango tree\n",
        "print(\"Mango Tree Details:\")\n",
        "print(f\"Variety: {mangoTree2.variety}\")\n",
        "print(f\"Height: {mangoTree2.height} meter(s)\")\n",
        "print(f\"Number of mangoes on the tree: {mangoTree2.number_of_mangoes}\")\n",
        "print(\"=====================================\")\n"
      ],
      "metadata": {
        "colab": {
          "base_uri": "https://localhost:8080/"
        },
        "id": "K_jp3hLTUH4V",
        "outputId": "2e180fd8-47e6-428d-dc54-217bc86c7db8"
      },
      "execution_count": null,
      "outputs": [
        {
          "output_type": "stream",
          "name": "stdout",
          "text": [
            "=====================================\n",
            "Mango Tree Details:\n",
            "Variety: Gopalbhog\n",
            "Height: 1 meter(s)\n",
            "Number of mangoes on the tree: 0\n",
            "=====================================\n",
            "Mango Tree Details:\n",
            "Variety: Amrapali\n",
            "Height: 1 meter(s)\n",
            "Number of mangoes on the tree: 0\n",
            "=====================================\n"
          ]
        }
      ]
    },
    {
      "cell_type": "code",
      "source": [
        "#task 2(ii)\n",
        "mangoTree1.height += 5*3\n",
        "mangoTree2.height += 5*3\n",
        "mangoTree1.number_of_mangoes = 10*mangoTree1.height\n",
        "mangoTree2.number_of_mangoes = 15*mangoTree2.height\n",
        "\n",
        "\n",
        "print(\"Updated details after 5 years:\")\n",
        "print(\"=====================================\")\n",
        "print(f\"Variety: {mangoTree1.variety}\")\n",
        "print(f\"Height: {mangoTree1.height} meter(s)\")\n",
        "print(f\"Number of mangoes on the tree: {mangoTree1.number_of_mangoes}\")\n",
        "print(\"=====================================\")\n",
        "print(f\"Variety: {mangoTree2.variety}\")\n",
        "print(f\"Height: {mangoTree2.height} meter(s)\")\n",
        "print(f\"Number of mangoes on the tree: {mangoTree2.number_of_mangoes}\")\n"
      ],
      "metadata": {
        "colab": {
          "base_uri": "https://localhost:8080/"
        },
        "id": "8L33zUWDVOpT",
        "outputId": "c54b0c06-1a16-4c03-a85b-cc1ede660bf9"
      },
      "execution_count": null,
      "outputs": [
        {
          "output_type": "stream",
          "name": "stdout",
          "text": [
            "Updated details after 5 years:\n",
            "=====================================\n",
            "Variety: Gopalbhog\n",
            "Height: 16 meter(s)\n",
            "Number of mangoes on the tree: 160\n",
            "=====================================\n",
            "Variety: Amrapali\n",
            "Height: 16 meter(s)\n",
            "Number of mangoes on the tree: 240\n"
          ]
        }
      ]
    },
    {
      "cell_type": "code",
      "source": [
        "#task 3\n",
        "class Contacts:\n",
        "  def __init__(self, names, numbers):\n",
        "    self.names = names\n",
        "    self.numbers = numbers\n",
        "    self.contactDict = {}\n",
        "    if len(self.names) == len(self.numbers):\n",
        "      print(\"Contacts saved successfully.\")\n",
        "      for i in range(len(self.names)):\n",
        "        self.contactDict[self.names[i]] = self.numbers[i]\n",
        "    else:\n",
        "      print(\"Contacts cannot be saved. Length Mismatch!\")\n",
        "\n",
        "\n",
        "names = [\"Emergency\", \"Father\", \"Bestie\"]\n",
        "numbers = [\"999\", \"01xx23\", \"01xx87\", \"01xx65\", \"01xx43\"]\n",
        "\n",
        "m1 = Contacts(names, numbers)\n",
        "val = m1\n",
        "print(\"Saved Contacts:\", m1.contactDict)\n",
        "print(\"---------------------------------------------\")\n",
        "\n",
        "names.append(\"Mother\")\n",
        "numbers.pop()\n",
        "\n",
        "m2 = Contacts(names, numbers)\n",
        "print(\"Saved Contacts:\", m2.contactDict)\n",
        "print(\"---------------------------------------------\")\n",
        "\n",
        "\n",
        "m1 = Contacts(names, numbers)\n",
        "if m1 == val:\n",
        "  print(\"location is same\")\n",
        "else:\n",
        "  print(\"location is Different\")\n"
      ],
      "metadata": {
        "colab": {
          "base_uri": "https://localhost:8080/"
        },
        "id": "d9ftxNY_WWIK",
        "outputId": "28fd6556-0e25-4132-c1ab-88bd9840cda0"
      },
      "execution_count": null,
      "outputs": [
        {
          "output_type": "stream",
          "name": "stdout",
          "text": [
            "Contacts cannot be saved. Length Mismatch!\n",
            "Saved Contacts: {}\n",
            "---------------------------------------------\n",
            "Contacts saved successfully.\n",
            "Saved Contacts: {'Emergency': '999', 'Father': '01xx23', 'Bestie': '01xx87', 'Mother': '01xx65'}\n",
            "---------------------------------------------\n",
            "Contacts saved successfully.\n",
            "location is Different\n"
          ]
        }
      ]
    },
    {
      "cell_type": "code",
      "source": [
        "#Task 4\n",
        "class Student:\n",
        "  def __init__(self, name, cgpa, courses_taken):\n",
        "    self.name = name\n",
        "    self.cgpa = cgpa\n",
        "    self.courses_taken = courses_taken\n",
        "    self.student_status = None\n",
        "    self.advising_status = None\n",
        "    if self.cgpa < 2.00 and 1<= self.courses_taken<=2:\n",
        "      print(f\"Study hard this time, {self.name}.\")\n",
        "      self.student_status = \"Probation\"\n",
        "      self.advising_status = \"Approved\"\n",
        "    elif self.cgpa < 2.00 and self.courses_taken>2:\n",
        "      print(f\"Sorry, {self.name}, you are on probation and cannot take more than 2 courses.\")\n",
        "      self.advising_status = \"Denied\"\n",
        "      self.courses_taken = 0\n",
        "    elif self.cgpa < 3.00 and self.courses_taken <=3:\n",
        "      print(f\"Hello {self.name}, You are a regular student and have to take between 3 to 5 courses.\")\n",
        "      self.advising_status = \"Denied\"\n",
        "      self.courses_taken = 0\n",
        "    elif self.cgpa >= 3.00:\n",
        "      print(f\"All the best, {self.name}, for the upcoming semester.\")\n",
        "      self.student_status = \"Regular\"\n",
        "      self.advising_status = \"Approved\"\n",
        "\n",
        "\n",
        "\n",
        "\n",
        "s1 = Student(\"Clark\", 3.45, 4)\n",
        "print(f\"Name: {s1.name}\\nCGPA: {s1.cgpa}\\nCourses Taken: {s1.courses_taken}\")\n",
        "print(f\"Student Status: {s1.student_status}\\nAdvising Status: {s1.advising_status}\")\n",
        "print(\"--------------------------------------------------------------------------------\")\n",
        "s2 = Student(\"Barry\", 1.93, 2)\n",
        "print(f\"Name: {s2.name}\")\n",
        "print(f\"Student Status: {s2.student_status}\\nAdvising Status: {s2.advising_status}\")\n",
        "print(\"--------------------------------------------------------------------------------\")\n",
        "s3 = Student(\"Diana\", 2.91, 2)\n",
        "print(f\"Advising Status: {s3.advising_status}\\nCourses Taken: {s3.courses_taken}\")\n",
        "print(\"--------------------------------------------------------------------------------\")\n",
        "s4 = Student(\"Bruce\", 1.52, 5)\n",
        "print(f\"Advising Status: {s4.advising_status}\\nCourses Taken: {s4.courses_taken}\")\n",
        "\n"
      ],
      "metadata": {
        "colab": {
          "base_uri": "https://localhost:8080/"
        },
        "id": "zLmcOSg6Xkm5",
        "outputId": "efa9cb38-6cf9-418d-912d-c4aea5894a6d"
      },
      "execution_count": null,
      "outputs": [
        {
          "output_type": "stream",
          "name": "stdout",
          "text": [
            "All the best, Clark, for the upcoming semester.\n",
            "Name: Clark\n",
            "CGPA: 3.45\n",
            "Courses Taken: 4\n",
            "Student Status: Regular\n",
            "Advising Status: Approved\n",
            "--------------------------------------------------------------------------------\n",
            "Study hard this time, Barry.\n",
            "Name: Barry\n",
            "Student Status: Probation\n",
            "Advising Status: Approved\n",
            "--------------------------------------------------------------------------------\n",
            "Hello Diana, You are a regular student and have to take between 3 to 5 courses.\n",
            "Advising Status: Denied\n",
            "Courses Taken: 0\n",
            "--------------------------------------------------------------------------------\n",
            "Sorry, Bruce, you are on probation and cannot take more than 2 courses.\n",
            "Advising Status: Denied\n",
            "Courses Taken: 0\n"
          ]
        }
      ]
    },
    {
      "cell_type": "code",
      "source": [
        "#Task 5\n",
        "import datetime\n",
        "class Book:\n",
        "  def __init__(self, name, author, year):\n",
        "    self.author = author\n",
        "    self.name = name\n",
        "    self.year_of_publication = year\n",
        "    self.status = self.check_antique_status()\n",
        "\n",
        "  def check_antique_status(self):\n",
        "    today = datetime.date.today()\n",
        "    year = today.year\n",
        "    if year - self.year_of_publication >= 400:\n",
        "      return \"Accepted. The book is stored on floor: 2.\"\n",
        "    elif year - self.year_of_publication >= 200:\n",
        "      return \"Accepted. The book is stored on floor: 1.\"\n",
        "    elif year - self.year_of_publication >= 100:\n",
        "      return \"Accepted. The book is stored on floor: 0.\"\n",
        "    else:\n",
        "      return \"Rejected. The book is not antique enough.\"\n",
        "\n",
        "book1= Book('The Act', 'Ferguson', 1924)\n",
        "print(f\"{book1.author} wrote the book '{book1.name}'.\")\n",
        "print(f\"This book was published in {book1.year_of_publication}.\")\n",
        "print(f\"This book is {book1.status}\")\n",
        "print(\"-------------------------------------\")\n",
        "book2= Book('Flame', 'Nolan', 1932)\n",
        "print(f\"{book2.author} wrote the book '{book2.name}'.\")\n",
        "print(f\"This book was published in {book2.year_of_publication}.\")\n",
        "print(f\"This book is {book2.status}\")\n",
        "print(\"-------------------------------------\")\n",
        "book3= Book('Norms', 'Alfred', 1832)\n",
        "print(f\"{book3.author} wrote the book '{book3.name}'.\")\n",
        "print(f\"This book was published in {book3.year_of_publication}.\")\n",
        "print(f\"This book is {book3.status}\")\n",
        "print(\"-------------------------------------\")\n",
        "book4= Book('Apex', 'Samson', 1923)\n",
        "print(f\"{book4.author} wrote the book '{book4.name}'.\")\n",
        "print(f\"This book was published in {book4.year_of_publication}.\")\n",
        "print(f\"This book is {book4.status}\")\n",
        "print(\"-------------------------------------\")\n",
        "book5= Book('Habitat', 'Eden', 1723)\n",
        "print(f\"{book5.author} wrote the book '{book5.name}'.\")\n",
        "print(f\"This book was published in {book5.year_of_publication}.\")\n",
        "print(f\"This book is {book5.status}\")\n",
        "print(\"-------------------------------------\")\n",
        "book6= Book('Apocalypto', 'Menez', 1603)\n",
        "print(f\"{book6.author} wrote the book '{book6.name}'.\")\n",
        "print(f\"This book was published in {book6.year_of_publication}.\")\n",
        "print(f\"This book is {book6.status}\")\n"
      ],
      "metadata": {
        "colab": {
          "base_uri": "https://localhost:8080/"
        },
        "id": "Ft7zavDemtC6",
        "outputId": "c637440c-4153-4aee-f62a-fd0881528c8a"
      },
      "execution_count": null,
      "outputs": [
        {
          "output_type": "stream",
          "name": "stdout",
          "text": [
            "Ferguson wrote the book 'The Act'.\n",
            "This book was published in 1924.\n",
            "This book is Rejected. The book is not antique enough.\n",
            "-------------------------------------\n",
            "Nolan wrote the book 'Flame'.\n",
            "This book was published in 1932.\n",
            "This book is Rejected. The book is not antique enough.\n",
            "-------------------------------------\n",
            "Alfred wrote the book 'Norms'.\n",
            "This book was published in 1832.\n",
            "This book is Accepted. The book is stored on floor: 0.\n",
            "-------------------------------------\n",
            "Samson wrote the book 'Apex'.\n",
            "This book was published in 1923.\n",
            "This book is Accepted. The book is stored on floor: 0.\n",
            "-------------------------------------\n",
            "Eden wrote the book 'Habitat'.\n",
            "This book was published in 1723.\n",
            "This book is Accepted. The book is stored on floor: 1.\n",
            "-------------------------------------\n",
            "Menez wrote the book 'Apocalypto'.\n",
            "This book was published in 1603.\n",
            "This book is Accepted. The book is stored on floor: 2.\n"
          ]
        }
      ]
    },
    {
      "cell_type": "markdown",
      "source": [
        "#HOMEWORK LAB3"
      ],
      "metadata": {
        "id": "MVNXH36sTRdU"
      }
    },
    {
      "cell_type": "code",
      "source": [
        "#Task 1\n",
        "class CellPackage:\n",
        "  def __init__(self, price, data, talk_time, messages, cashback, validity):\n",
        "    self.price = price\n",
        "    self.data = data\n",
        "    self.talk_time = talk_time\n",
        "    self.messages = messages\n",
        "    self.cashback = cashback\n",
        "    self.validity = validity\n",
        "    self.data1 = ''\n",
        "    self.cashback1 = ''\n",
        "    self.final_cashback = 0\n",
        "    for i in self.data:\n",
        "      if i == \" \":\n",
        "        break\n",
        "      else:\n",
        "        self.data1 += i\n",
        "    self.data1 = int(self.data1)\n",
        "\n",
        "    for j in self.cashback:\n",
        "      if j == \"%\":\n",
        "        break\n",
        "      else:\n",
        "        self.cashback1 += j\n",
        "    self.cashback1 = int(self.cashback1)\n",
        "\n",
        "    if self.data1 == 0:\n",
        "      pass\n",
        "    else:\n",
        "      print(f\"Data = {self.data1*1024} MB\")\n",
        "    if self.talk_time == 0:\n",
        "      pass\n",
        "    else:\n",
        "      print(f\"Talktime = {self.talk_time} Minutes\")\n",
        "    if self.messages == 0:\n",
        "      pass\n",
        "    else:\n",
        "      print(f\"SMS/MMS = {self.messages}\")\n",
        "\n",
        "    print(f\"Validity = {self.validity} Days\")\n",
        "    print(f\"--> Price = {self.price} tk\")\n",
        "\n",
        "    self.final_cashback = int((self.cashback1*self.price)/100)\n",
        "    if self.final_cashback == 0:\n",
        "      pass\n",
        "    else:\n",
        "      print(f\"Buy now to get {self.final_cashback} tk cashback.\")\n",
        "\n",
        "print('============= Package 1 =============')\n",
        "pkg = CellPackage(150, '6 GB', 99, 20, '7%', 7)\n",
        "print('============= Package 2 =============')\n",
        "pkg2 = CellPackage(700, '35 GB', 700, 0, '10%', 30)\n",
        "print('============= Package 3 =============')\n",
        "pkg4 = CellPackage(120, '0 GB', 190, 0, '0%', 10)\n"
      ],
      "metadata": {
        "colab": {
          "base_uri": "https://localhost:8080/"
        },
        "id": "9Fr5rVgATQ34",
        "outputId": "7d69cdcb-84e3-487e-d328-9763b9cdd571"
      },
      "execution_count": null,
      "outputs": [
        {
          "output_type": "stream",
          "name": "stdout",
          "text": [
            "============= Package 1 =============\n",
            "Data = 6144 MB\n",
            "Talktime = 99 Minutes\n",
            "SMS/MMS = 20\n",
            "Validity = 7 Days\n",
            "--> Price = 150 tk\n",
            "Buy now to get 10 tk cashback.\n",
            "============= Package 2 =============\n",
            "Data = 35840 MB\n",
            "Talktime = 700 Minutes\n",
            "Validity = 30 Days\n",
            "--> Price = 700 tk\n",
            "Buy now to get 70 tk cashback.\n",
            "============= Package 3 =============\n",
            "Talktime = 190 Minutes\n",
            "Validity = 10 Days\n",
            "--> Price = 120 tk\n",
            "============= Package 4 =============\n",
            "Talktime = 177 Minutes\n",
            "Validity = 10 Days\n",
            "--> Price = 1330 tk\n",
            "Buy now to get 106 tk cashback.\n"
          ]
        }
      ]
    },
    {
      "cell_type": "code",
      "source": [
        "#Task 2\n",
        "\n",
        "class Pokemon:\n",
        "  def __init__(self, pokemon1_name, pokemon2_name, pokemon1_power, pokemon2_power, damage_rate):\n",
        "    self.pokemon1_name = pokemon1_name\n",
        "    self.pokemon2_name = pokemon2_name\n",
        "    self.pokemon1_power = pokemon1_power\n",
        "    self.pokemon2_power = pokemon2_power\n",
        "    self.damage_rate = damage_rate\n",
        "\n",
        "team_pika = Pokemon('pikachu', 'charmander', 90, 60, 10)\n",
        "print('=======Team 1=======')\n",
        "print('Pokemon 1:',team_pika.pokemon1_name, team_pika.pokemon1_power)\n",
        "print('Pokemon 2:',team_pika.pokemon2_name, team_pika.pokemon2_power)\n",
        "pika_combined_power = (team_pika.pokemon1_power + team_pika.pokemon2_power) * team_pika.damage_rate\n",
        "print('Combined Power:', pika_combined_power)\n",
        "\n",
        "team_bulb = Pokemon('bulbasaur','squirtle', 80, 70, 9)\n",
        "print(f'{\"=\"*7}Team 2{\"=\"*7}')\n",
        "print('Pokemon 1:',team_bulb.pokemon1_name, team_bulb.pokemon1_power)\n",
        "print('Pokemon 2:',team_bulb.pokemon2_name, team_bulb.pokemon2_power)\n",
        "bulb_combined_power = (team_bulb.pokemon1_power + team_bulb.pokemon2_power) * team_bulb.damage_rate\n",
        "print('Combined Power:', bulb_combined_power)\n"
      ],
      "metadata": {
        "colab": {
          "base_uri": "https://localhost:8080/"
        },
        "id": "J2IiH4k7HHdg",
        "outputId": "8aeb7fbf-f15e-4af2-ae7e-3b1cdb90819d"
      },
      "execution_count": null,
      "outputs": [
        {
          "output_type": "stream",
          "name": "stdout",
          "text": [
            "=======Team 1=======\n",
            "Pokemon 1: pikachu 90\n",
            "Pokemon 2: charmander 60\n",
            "Combined Power: 1500\n",
            "=======Team 2=======\n",
            "Pokemon 1: bulbasaur 80\n",
            "Pokemon 2: squirtle 70\n",
            "Combined Power: 1350\n"
          ]
        }
      ]
    },
    {
      "cell_type": "code",
      "source": [
        "#Task 3\n",
        "class box:\n",
        "  def __init__(self, box):\n",
        "    self.box = box\n",
        "    self.height = self.box[0]\n",
        "    self.width = self.box[1]\n",
        "    self.breadth = self.box[2]\n",
        "\n",
        "\n",
        "print(\"Box 1\")\n",
        "b1 = box([10,10,10])\n",
        "print(\"=========================\")\n",
        "print(\"Height:\", b1.height)\n",
        "print(\"Width:\", b1.width)\n",
        "print(\"Breadth:\", b1.breadth)\n",
        "volume = b1.height * b1.width * b1.breadth\n",
        "print(f\"Volume of the box is {volume} cubic units.\")\n",
        "print(\"-------------------------\")\n",
        "\n",
        "print(\"Box 2\")\n",
        "b2 = box((30,10,10))\n",
        "print(\"=========================\")\n",
        "print(\"Height:\", b2.height)\n",
        "print(\"Width:\", b2.width)\n",
        "print(\"Breadth:\", b2.breadth)\n",
        "volume = b2.height * b2.width * b2.breadth\n",
        "print(f\"Volume of the box is {volume} cubic units.\")\n",
        "b2.height = 300\n",
        "print(\"Updating Box 2!\")\n",
        "print(\"Height:\", b2.height)\n",
        "print(\"Width:\", b2.width)\n",
        "print(\"Breadth:\", b2.breadth)\n",
        "volume = b2.height * b2.width * b2.breadth\n",
        "print(f\"Volume of the box is {volume} cubic units.\")\n",
        "print(\"-------------------------\")\n",
        "\n",
        "print(\"Box 3\")\n",
        "b3 = b2\n",
        "print(\"Height:\", b3.height)\n",
        "print(\"Width:\", b3.width)\n",
        "print(\"Breadth:\", b3.breadth)\n",
        "volume = b3.height * b3.width * b3.breadth\n",
        "print(f\"Volume of the box is {volume} cubic units.\")\n"
      ],
      "metadata": {
        "colab": {
          "base_uri": "https://localhost:8080/"
        },
        "id": "zcC6u1FfN8yn",
        "outputId": "f822e752-5a45-479c-b6d2-a948d18038d1"
      },
      "execution_count": null,
      "outputs": [
        {
          "output_type": "stream",
          "name": "stdout",
          "text": [
            "Box 1\n",
            "=========================\n",
            "Height: 10\n",
            "Width: 10\n",
            "Breadth: 10\n",
            "Volume of the box is 1000 cubic units.\n",
            "-------------------------\n",
            "Box 2\n",
            "=========================\n",
            "Height: 30\n",
            "Width: 10\n",
            "Breadth: 10\n",
            "Volume of the box is 3000 cubic units.\n",
            "Updating Box 2!\n",
            "Height: 300\n",
            "Width: 10\n",
            "Breadth: 10\n",
            "Volume of the box is 30000 cubic units.\n",
            "-------------------------\n",
            "Box 3\n",
            "Height: 300\n",
            "Width: 10\n",
            "Breadth: 10\n",
            "Volume of the box is 30000 cubic units.\n",
            "True\n",
            "True\n"
          ]
        }
      ]
    },
    {
      "cell_type": "code",
      "source": [
        "#Task 4\n",
        "class Vector3D:\n",
        "  def __init__(self, x, y, z):\n",
        "    self.x = x\n",
        "    self.y = y\n",
        "    self.z = z\n",
        "    print(f'Vector <{self.x}, {self.y}, {self.z}> has been created.')\n",
        "\n",
        "import math\n",
        "v1 = Vector3D(2, -3, 1)\n",
        "v2 = Vector3D(-1, 4, 0)\n",
        "print(f\"Magnitude of the first vector = {math.sqrt((v1.x)**2+(v1.y)**2+(v1.z)**2)}\")\n",
        "print(f\"Magnitude of the first vector = {math.sqrt((v2.x)**2+(v2.y)**2+(v2.z)**2)}\")\n",
        "print(f\"Dot product of the two vectors = {v1.x*v2.x + v1.y*v2.y + v1.z*v2.z}\")\n",
        "v3 = Vector3D(v1.y*v2.z - v1.z*v2.y, v1.z*v2.x - v1.x*v2.z, v1.x*v2.y - v1.y*v2.x)\n",
        "print(\"Cross product of the two vectors = <{}, {}, {}>\".format(v3.x,v3.y,v3.z))"
      ],
      "metadata": {
        "id": "jfgS16XHP7rT",
        "colab": {
          "base_uri": "https://localhost:8080/"
        },
        "outputId": "8fdfb5f3-c769-4784-c17b-4c62fe26f7c1"
      },
      "execution_count": null,
      "outputs": [
        {
          "output_type": "stream",
          "name": "stdout",
          "text": [
            "Vector <2, -3, 1> has been created.\n",
            "Vector <-1, 4, 0> has been created.\n",
            "Magnitude of the first vector = 3.7416573867739413\n",
            "Magnitude of the first vector = 4.123105625617661\n",
            "Dot product of the two vectors = -14\n",
            "Vector <-4, -1, 5> has been created.\n",
            "Cross product of the two vectors = <-4, -1, 5>\n"
          ]
        }
      ]
    },
    {
      "cell_type": "code",
      "source": [
        "#Task 5\n",
        "class Order:\n",
        "    def __init__(self, menu, order_string):\n",
        "        self.menu = menu\n",
        "        self.order_string = order_string\n",
        "        self.items = self.items_string()\n",
        "\n",
        "    def items_string(self):\n",
        "        items = []\n",
        "        order_list = self.order_string.split(', ')\n",
        "        for i in order_list:\n",
        "            item, quantity = i.split('-')\n",
        "            price = self.menu.get(item) * int(quantity)\n",
        "            items.extend([item, int(quantity), price])\n",
        "        return items\n",
        "\n",
        "\n",
        "menu = {\n",
        "    'Chicken_Cheeseburger' : 249,\n",
        "    'Mega_Cheeseburger' : 289,\n",
        "    'Fries' : 139,\n",
        "    'Hot_Wings' : 99,\n",
        "    'Rice_Bowl' : 299,\n",
        "    'Soft_Drinks' : 50\n",
        "}\n",
        "\n",
        "order1 = Order(menu, \"Chicken_Cheeseburger-2, Fries-3, Soft_Drinks-3\")\n",
        "print(order1.items)\n",
        "print()\n",
        "print('-'*35)\n",
        "print('Item         x Quantity : Price')\n",
        "print('-------------- -------- -------')\n",
        "index = 0\n",
        "total = 0\n",
        "while index < len(order1.items):\n",
        "    item = order1.items[index]\n",
        "    quantity = order1.items[index+1]\n",
        "    price = order1.items[index+2]\n",
        "\n",
        "    print(f'{item:20} x {quantity:2} : {price:7.2f}')\n",
        "    total += price\n",
        "    index += 3\n",
        "\n",
        "print('-'*35)\n",
        "print(f'Total:                      {total:7.2f}')\n",
        "print('-'*35)\n"
      ],
      "metadata": {
        "id": "DYQe9Kz6Sw9e",
        "colab": {
          "base_uri": "https://localhost:8080/"
        },
        "outputId": "a27eb5d6-ee31-4654-b4b5-a2980087ef93"
      },
      "execution_count": null,
      "outputs": [
        {
          "output_type": "stream",
          "name": "stdout",
          "text": [
            "['Chicken_Cheeseburger', 2, 498, 'Fries', 3, 417, 'Soft_Drinks', 3, 150]\n",
            "\n",
            "-----------------------------------\n",
            "Item         x Quantity : Price\n",
            "-------------- -------- -------\n",
            "Chicken_Cheeseburger x  2 :  498.00\n",
            "Fries                x  3 :  417.00\n",
            "Soft_Drinks          x  3 :  150.00\n",
            "-----------------------------------\n",
            "Total:                      1065.00\n",
            "-----------------------------------\n"
          ]
        }
      ]
    },
    {
      "cell_type": "code",
      "source": [
        "class Order:\n",
        "    def __init__(self, menu, order_string):\n",
        "      self.menu = menu\n",
        "      self.order_string = order_string\n",
        "      self.items = self.items_string()\n",
        "\n",
        "    def items_string(self):\n",
        "      items = []\n",
        "      order_list = self.order_string.split(\", \")\n",
        "      for i in order_list:\n",
        "        item, quantity = i.split(\"-\")\n",
        "        price = self.menu.get(item) * int(quantity)\n",
        "        items.extend([item, int(quantity), price])\n",
        "      return items\n",
        "\n",
        "\n",
        "menu = {\n",
        "    'Chicken_Cheeseburger' : 249,\n",
        "    'Mega_Cheeseburger' : 289,\n",
        "    'Fries' : 139,\n",
        "    'Hot_Wings' : 99,\n",
        "    'Rice_Bowl' : 299,\n",
        "    'Soft_Drinks' : 50\n",
        "}\n",
        "\n",
        "order1 = Order(menu, \"Chicken_Cheeseburger-2, Fries-3, Soft_Drinks-3\")\n",
        "print(order1.items)\n",
        "print()\n",
        "print('-'*35)\n",
        "print('Item         x Quantity : Price')\n",
        "print('-------------- -------- -------')\n",
        "index = 0\n",
        "total = 0\n",
        "while index < len(order1.items):\n",
        "    item = order1.items[index]\n",
        "    quantity = order1.items[index+1]\n",
        "    price = order1.items[index+2]\n",
        "\n",
        "    print(f'{item:20} x {quantity:2} : {price:7.2f}')\n",
        "    total += price\n",
        "    index += 3\n",
        "\n",
        "print('-'*35)\n",
        "print(f'Total:                      {total:7.2f}')\n",
        "print('-'*35)\n"
      ],
      "metadata": {
        "colab": {
          "base_uri": "https://localhost:8080/"
        },
        "id": "_HtZIbIfUra0",
        "outputId": "f5bb1161-248f-4a99-87e2-8cba650be1ec"
      },
      "execution_count": null,
      "outputs": [
        {
          "output_type": "stream",
          "name": "stdout",
          "text": [
            "['Chicken_Cheeseburger', 2, 498, 'Fries', 3, 417, 'Soft_Drinks', 3, 150]\n",
            "\n",
            "-----------------------------------\n",
            "Item         x Quantity : Price\n",
            "-------------- -------- -------\n",
            "Chicken_Cheeseburger x  2 :  498.00\n",
            "Fries                x  3 :  417.00\n",
            "Soft_Drinks          x  3 :  150.00\n",
            "-----------------------------------\n",
            "Total:                      1065.00\n",
            "-----------------------------------\n"
          ]
        }
      ]
    }
  ]
}