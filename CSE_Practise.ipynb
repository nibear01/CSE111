{
  "cells": [
    {
      "cell_type": "markdown",
      "metadata": {
        "id": "view-in-github",
        "colab_type": "text"
      },
      "source": [
        "<a href=\"https://colab.research.google.com/github/nibear01/CSE111/blob/main/CSE_Practise.ipynb\" target=\"_parent\"><img src=\"https://colab.research.google.com/assets/colab-badge.svg\" alt=\"Open In Colab\"/></a>"
      ]
    },
    {
      "cell_type": "markdown",
      "metadata": {
        "id": "HAYMm0n-wtdI"
      },
      "source": [
        "# **CSE110 Final Questions Answers**\n"
      ]
    },
    {
      "cell_type": "code",
      "execution_count": null,
      "metadata": {
        "colab": {
          "base_uri": "https://localhost:8080/"
        },
        "id": "F8QDZfPVjlFX",
        "outputId": "3fccb047-c342-4334-cc5c-8e2ae6e73aaf"
      },
      "outputs": [
        {
          "name": "stdout",
          "output_type": "stream",
          "text": [
            "{'item1': 111, 'item2': 222, 'item3': 333, 'item4': 444, 'Average': 277.5}\n"
          ]
        }
      ],
      "source": [
        "#output : {\"item1\":111,\"item2\":222,\"item3\":333,\"item4\":444,\"Average\":277.5}\n",
        "user = [111,222,333,444]\n",
        "dict1 = {}\n",
        "count = 0\n",
        "key = \"\"\n",
        "for i in range(1,len(user)+1):\n",
        "  key = key + \"item\" + str(i)\n",
        "  dict1[key] = user[i-1]\n",
        "  key = \"\"\n",
        "for i in user:\n",
        "  count += i\n",
        "avg = count/len(user)\n",
        "dict1[\"Average\"] = avg\n",
        "print(dict1)"
      ]
    },
    {
      "cell_type": "code",
      "execution_count": null,
      "metadata": {
        "colab": {
          "base_uri": "https://localhost:8080/"
        },
        "id": "h60kjJKnukqs",
        "outputId": "faafe24a-edf4-4949-a62c-e99576669361"
      },
      "outputs": [
        {
          "name": "stdout",
          "output_type": "stream",
          "text": [
            "walter white\n",
            "False\n"
          ]
        }
      ],
      "source": [
        "def checkname(user):\n",
        "  user = user.split(\" \")\n",
        "  Flag = True\n",
        "  for i in user:\n",
        "    if 65<=ord(i[0])<=90:\n",
        "      for j in range(1,len(i)):\n",
        "        if 97<=ord(i[j])<=122:\n",
        "          Flag = True\n",
        "        else:\n",
        "          Flag = False\n",
        "          break\n",
        "    else:\n",
        "      Flag = False\n",
        "  if Flag == True:\n",
        "    val = \"True\"\n",
        "    return val\n",
        "  else:\n",
        "    val = \"False\"\n",
        "    return val\n",
        "input1 = input()\n",
        "x = checkname(input1)\n",
        "print(x)"
      ]
    },
    {
      "cell_type": "code",
      "execution_count": null,
      "metadata": {
        "id": "3NVRQfYRClt8"
      },
      "outputs": [],
      "source": [
        "from IPython.display import clear_output\n",
        "import time\n",
        "\n",
        "# All the variables needed\n",
        "board = [[1, 2, 3], [4, 5, 6], [7, 8, 9]]  # The players will be placing their characters in this list\n",
        "# and the whole game be conducted based on the current status of this list.\n",
        "current_player_char = 'X'  # The character of the current player\n",
        "next_player_char = 'O'  # The character of the next player\n",
        "totalInputs = 9  # Since there are 9 slots in total on the board.\n",
        "winner = None\n",
        "\n",
        "\n",
        "def checkHorizontal():\n",
        "    for row in board:\n",
        "        if row[0] == row[1] == row[2]:\n",
        "            return True\n",
        "    return False\n",
        "\n",
        "\n",
        "def checkVertical():\n",
        "    for col in range(3):\n",
        "        if board[0][col] == board[1][col] == board[2][col]:\n",
        "            return True\n",
        "    return False\n",
        "\n",
        "\n",
        "def checkDiagonal():\n",
        "    if board[0][0] == board[1][1] == board[2][2] or board[0][2] == board[1][1] == board[2][0]:\n",
        "        return True\n",
        "    return False\n",
        "\n",
        "\n",
        "def checkBoard():\n",
        "    return checkHorizontal() or checkVertical() or checkDiagonal()\n",
        "\n",
        "\n",
        "def placeCharacterOnBoard(pos):\n",
        "    for row in range(3):\n",
        "        for col in range(3):\n",
        "            if board[row][col] == pos:\n",
        "                board[row][col] = current_player_char\n",
        "                return 1\n",
        "    return 0\n",
        "\n",
        "\n",
        "# This function prints the current status of the 'board' list in a particular format.\n",
        "def printCurrentBoard():\n",
        "    print(\"-------------\")\n",
        "    for eachRow in board:\n",
        "        print(\"|\", end=\"\")\n",
        "        for eachCol in eachRow:\n",
        "            print(f\" {eachCol} \", end=\"|\")\n",
        "        print()  # To move to the next row\n",
        "        print(\"-------------\")\n",
        "\n",
        "\n",
        "# This function will simulate the whole game.\n",
        "def runGame():\n",
        "    global current_player_char\n",
        "    global next_player_char\n",
        "    global winner\n",
        "    welcome_msg = '''Welcome to the TIC-TAC-TOE game. The first player to place a character on the board will be Player 1 (Character X) and the other player will be Player 2 (Character O).'''\n",
        "    print(welcome_msg)\n",
        "    inputCount = 0  # This variable counts the number of inputs and controls the loop based on it.\n",
        "    while inputCount < totalInputs:\n",
        "        printCurrentBoard()  # This function prints the current state of the board as a player needs to see it before making the next move.\n",
        "        position = int(input(f\"Player {(inputCount % 2) + 1}, enter a position that does not contain any X or O:\"))\n",
        "        validityofInput = placeCharacterOnBoard(position)  # validityofInput will be 1 if the user inputs a valid \"position\"; otherwise, it will be 0.\n",
        "        inputCount += validityofInput  # If the user inputs a valid \"position\", the inputCount will increase by one; otherwise, it will remain as it is.\n",
        "        if inputCount >= 5:  # There is no need to check the board before 5 valid inputs as there will be no winners before 5 valid inputs.\n",
        "            if checkBoard():  # If checkBoard() returns True, the current player won the game.\n",
        "                winner = \"Player 1\" if current_player_char == 'X' else \"Player 2\"\n",
        "                clear_output()  # This function clears the output panel.\n",
        "                break"
      ]
    },
    {
      "cell_type": "markdown",
      "metadata": {
        "id": "QVoeixK2z7he"
      },
      "source": [
        "#Building Tinder Prototype App"
      ]
    },
    {
      "cell_type": "code",
      "execution_count": null,
      "metadata": {
        "id": "eYCXVP8ww9Mb"
      },
      "outputs": [],
      "source": [
        "#Person1\n",
        "age1 = int(input(\"First Person type Age: \"))\n",
        "state1 = input(\"First Person's living State: \").upper()\n",
        "music1 = input(\"First Person's Music Interest: \").upper()\n",
        "hobby1 = input(\"First Person's Hobby: \").upper()\n",
        "work1 = input(\"If working type yes else type no: \").upper()\n",
        "lang1 = input(\"First Person's Language: \").upper()\n",
        "food1 = input(\"First Person's Food Type: \").upper()\n",
        "\n",
        "#Person2\n",
        "age2 = int(input(\"Second Person type Age: \"))\n",
        "state2 = input(\"Second Person's living State: \").upper()\n",
        "music2 = input(\"Second Person's Music Interest: \").upper()\n",
        "hobby2 = input(\"Second Person's Hobby: \").upper()\n",
        "work2 = input(\"If working type yes else type no: \").upper()\n",
        "lang2 = input(\"Second Person's Language: \").upper()\n",
        "food2 = input(\"Second Person's Food Type: \").upper()\n",
        "\n",
        "count = 0\n",
        "\n",
        "age = age1-age2\n",
        "if age1>18 and age2>18:\n",
        "  if age>=5:\n",
        "    count+=1\n",
        "  if state1 == state2:\n",
        "    count+=1\n",
        "  if music1 == music2:\n",
        "    count+=2\n",
        "  if hobby1 == hobby2:\n",
        "    count+=1\n",
        "  if work1 == \"YES\" and work2 == \"YES\":\n",
        "    count+=2\n",
        "    pass\n",
        "  if work1 == \"YES\" or work2 == \"NO\":\n",
        "    count+=1\n",
        "  if work1 == \"NO\" and work2 == \"NO\":\n",
        "    count -=1\n",
        "  if lang1 == lang1:\n",
        "    count +=1\n",
        "  if food1 == food2:\n",
        "    count+=2\n",
        "  else:\n",
        "    pass\n",
        "  if count>=5:\n",
        "    print(\"Swipe Right\")\n",
        "  else:\n",
        "    print(\"Swipe Left\")\n",
        "else:\n",
        "  print(\"Swipe Left\")"
      ]
    },
    {
      "cell_type": "code",
      "execution_count": null,
      "metadata": {
        "colab": {
          "base_uri": "https://localhost:8080/"
        },
        "id": "cBTUcq427mTo",
        "outputId": "d0405cbd-f434-47c8-ab05-ff7af1111805"
      },
      "outputs": [
        {
          "name": "stdout",
          "output_type": "stream",
          "text": [
            "First Person type Age: 25\n",
            "Second Person type Age: 20\n",
            "First Person's living State: dhaka\n",
            "First Person's Music Interest: soft\n",
            "First Person's Hobby: music\n",
            "If working type yes else type no: no\n",
            "First Person's Language: bengali\n",
            "First Person's Food Type: non-vegeterian\n",
            "Second Person's living State: khulna\n",
            "Second Person's Music Interest: rock\n",
            "Second Person's Hobby: sleeping\n",
            "If working type yes else type no: yes\n",
            "Second Person's Language: hindi\n",
            "Second Person's Food Type: non-vegeterian\n",
            "Swipe Left\n",
            "4\n"
          ]
        }
      ],
      "source": [
        "#Updating the previous app code\n",
        "\n",
        "age1 = int(input(\"First Person type Age: \"))\n",
        "age2 = int(input(\"Second Person type Age: \"))\n",
        "count = 0\n",
        "if age1>18 and age2>18:\n",
        "  #Person1\n",
        "  state1 = input(\"First Person's living State: \").upper()\n",
        "  music1 = input(\"First Person's Music Interest: \").upper()\n",
        "  hobby1 = input(\"First Person's Hobby: \").upper()\n",
        "  work1 = input(\"If working type yes else type no: \").upper()\n",
        "  lang1 = input(\"First Person's Language: \").upper()\n",
        "  food1 = input(\"First Person's Food Type: \").upper()\n",
        "\n",
        "  #person2\n",
        "  state2 = input(\"Second Person's living State: \").upper()\n",
        "  music2 = input(\"Second Person's Music Interest: \").upper()\n",
        "  hobby2 = input(\"Second Person's Hobby: \").upper()\n",
        "  work2 = input(\"If working type yes else type no: \").upper()\n",
        "  lang2 = input(\"Second Person's Language: \").upper()\n",
        "  food2 = input(\"Second Person's Food Type: \").upper()\n",
        "\n",
        "  age = age1-age2\n",
        "  if age>=5:\n",
        "    count+=1\n",
        "  if state1 == state2:\n",
        "    count+=1\n",
        "  if music1 == music2:\n",
        "    count+=2\n",
        "  if hobby1 == hobby2:\n",
        "    count+=1\n",
        "  if work1 == \"YES\" and work2 == \"YES\":\n",
        "    count+=2\n",
        "    pass\n",
        "  if work1 == \"YES\" or work2 == \"NO\":\n",
        "    count+=1\n",
        "  if work1 == \"NO\" and work2 == \"NO\":\n",
        "    count -=1\n",
        "  if lang1 == lang1:\n",
        "    count +=1\n",
        "  if food1 == food2:\n",
        "    count+=2\n",
        "  else:\n",
        "    pass\n",
        "  if count>=5:\n",
        "    print(\"Swipe Right\")\n",
        "    print(count)\n",
        "  else:\n",
        "    print(\"Swipe Left\")\n",
        "    print(count)\n",
        "else:\n",
        "  print(\"Swipe Left\")"
      ]
    },
    {
      "cell_type": "markdown",
      "metadata": {
        "id": "zxV6enKHlAS8"
      },
      "source": [
        "#CSE111(Class, Object)"
      ]
    },
    {
      "cell_type": "code",
      "execution_count": null,
      "metadata": {
        "colab": {
          "base_uri": "https://localhost:8080/"
        },
        "id": "NOP4VgdPk9uc",
        "outputId": "c482da47-73d3-4a74-9c32-1df6b1ce0b6c"
      },
      "outputs": [
        {
          "name": "stdout",
          "output_type": "stream",
          "text": [
            "The colour of the glass is Red and the num is 1\n",
            "The colour of the glass is Green and the num is 2\n"
          ]
        }
      ],
      "source": [
        "class glass:\n",
        "\n",
        "  def __init__(self, color, num):\n",
        "    self.color = color       #Instance Variable\n",
        "    self.num = num           #Instance Variable\n",
        "\n",
        "  def display(self):         #Instance method\n",
        "    print(\"The colour of the glass is\",self.color,\"and the num is\",self.num)\n",
        "\n",
        "num1 = glass(\"Red\", 1)\n",
        "num2 = glass(\"Green\", 2)\n",
        "num1.display()\n",
        "num2.display()"
      ]
    },
    {
      "cell_type": "code",
      "execution_count": null,
      "metadata": {
        "colab": {
          "base_uri": "https://localhost:8080/"
        },
        "id": "ltNwKTO52axn",
        "outputId": "bfad1108-f28c-4ed3-e5fc-07804b46534c"
      },
      "outputs": [
        {
          "name": "stdout",
          "output_type": "stream",
          "text": [
            "The colour of the glass is Red and the num is 1\n",
            "The colour of the glass is Yellow and the num is 1\n"
          ]
        }
      ],
      "source": [
        "class glass:\n",
        "\n",
        "  def __init__(self, color, num):\n",
        "    self.color = color       #Instance Variable\n",
        "    self.num = num           #Instance Variable\n",
        "\n",
        "  def update_color(self, color):\n",
        "    self.color = color\n",
        "\n",
        "  def display(self):         #Instance method\n",
        "    print(\"The colour of the glass is\",self.color,\"and the num is\",self.num)\n",
        "\n",
        "num1 = glass(\"Red\", 1)\n",
        "num2 = glass(\"Green\", 2)\n",
        "num1.display()\n",
        "num1.update_color(\"Yellow\")\n",
        "num1.display()"
      ]
    },
    {
      "cell_type": "code",
      "execution_count": null,
      "metadata": {
        "colab": {
          "base_uri": "https://localhost:8080/"
        },
        "id": "mJ-SLXhOniuZ",
        "outputId": "e8f6c995-0e68-4984-92c4-b1ba6e04def2"
      },
      "outputs": [
        {
          "name": "stdout",
          "output_type": "stream",
          "text": [
            "Previous ID: 22201020\n",
            "New ID: 20\n"
          ]
        }
      ],
      "source": [
        "class employee:\n",
        "\n",
        "  def __init__(self, name, id):\n",
        "    self.name = name\n",
        "    self.id = id\n",
        "\n",
        "s1 = employee(\"Mashrur\", 22201020)\n",
        "s2 = employee(\"Nibir\", 22201025)\n",
        "print(\"Previous ID:\",s1.id)\n",
        "s1.id = 20     #Updating id\n",
        "print(\"New ID:\",s1.id)"
      ]
    },
    {
      "cell_type": "code",
      "execution_count": null,
      "metadata": {
        "colab": {
          "base_uri": "https://localhost:8080/"
        },
        "id": "1bDTjRWoo8F_",
        "outputId": "1d2ba3e6-4dd3-4317-9e5d-645ea515af55"
      },
      "outputs": [
        {
          "name": "stdout",
          "output_type": "stream",
          "text": [
            "The Acer model: AN15 cost is 110000\n",
            "The Asus model: EX1234 cost is 120000\n"
          ]
        }
      ],
      "source": [
        "class laptop:\n",
        "\n",
        "  def __init__(self, brand, model, price):\n",
        "    self.brand = brand\n",
        "    self.model = model\n",
        "    self.price = price\n",
        "\n",
        "  def view(self):\n",
        "    print(\"The\", self.brand , \"model:\", self.model, \"cost is\", self.price)\n",
        "\n",
        "l1 = laptop(\"Acer\", \"AN15\", 110000)\n",
        "l2 = laptop(\"Asus\", \"EX1234\", 120000)\n",
        "l1.view()\n",
        "l2.view()"
      ]
    },
    {
      "cell_type": "code",
      "execution_count": null,
      "metadata": {
        "colab": {
          "base_uri": "https://localhost:8080/"
        },
        "id": "0m5rW0Zh0_6j",
        "outputId": "38cf41ba-e85a-489b-aa1f-9c69021be339"
      },
      "outputs": [
        {
          "name": "stdout",
          "output_type": "stream",
          "text": [
            "Acer\n",
            "The Acer \n",
            "model: AN15 \n",
            "cost is 120000\n"
          ]
        }
      ],
      "source": [
        "class laptop:\n",
        "\n",
        "  def __init__(self, brand, model):\n",
        "    self.brand = brand\n",
        "    self.model = model\n",
        "    self.price = 0\n",
        "\n",
        "  def set_price(self, price):\n",
        "    self.price = price\n",
        "\n",
        "  def get_price(self):\n",
        "    return self.price\n",
        "\n",
        "  def view(self):\n",
        "    print(\"The\", self.brand , \"\\nmodel:\",self.model, \"\\ncost is\", self.price)\n",
        "\n",
        "l1 = laptop(input(), \"AN15\")\n",
        "l1.set_price(120000)\n",
        "#x = l1.get_price()\n",
        "#print(\"Updated price is:\",x)\n",
        "l1.view()"
      ]
    },
    {
      "cell_type": "code",
      "execution_count": null,
      "metadata": {
        "colab": {
          "base_uri": "https://localhost:8080/"
        },
        "id": "9XmvknRNU_vE",
        "outputId": "ccaea073-bf0a-46fb-99da-588b03d7b0a7"
      },
      "outputs": [
        {
          "name": "stdout",
          "output_type": "stream",
          "text": [
            "The Pixel 6 cost is 120000\n"
          ]
        }
      ],
      "source": [
        "class phone:\n",
        "\n",
        "  def __init__(self, model):\n",
        "    self.model = model\n",
        "    self.price = 0\n",
        "\n",
        "  def set_price(self, price):\n",
        "    self.price = price\n",
        "\n",
        "  def get_price(self):\n",
        "    return self.price\n",
        "\n",
        "  def view(self):\n",
        "    print(\"The\", self.model , \"cost is\", self.price)\n",
        "\n",
        "p1 = phone(\"Pixel 6\")\n",
        "p1.set_price(120000)\n",
        "p1.view()"
      ]
    },
    {
      "cell_type": "markdown",
      "metadata": {
        "id": "WU0d9j9zg-op"
      },
      "source": [
        "#Assingment 1"
      ]
    },
    {
      "cell_type": "markdown",
      "metadata": {
        "id": "ZwOTvDnegBfH"
      },
      "source": [
        "#String\n"
      ]
    },
    {
      "cell_type": "code",
      "execution_count": null,
      "metadata": {
        "colab": {
          "base_uri": "https://localhost:8080/"
        },
        "id": "hTe_4BNFJgZq",
        "outputId": "1476e1ed-d879-4dd3-fbfa-db0c67061043"
      },
      "outputs": [
        {
          "name": "stdout",
          "output_type": "stream",
          "text": [
            "Enter a String: ApplE\n",
            "apple\n"
          ]
        }
      ],
      "source": [
        "\n",
        "#1\n",
        "user = input(\"Enter a String: \")\n",
        "upper = 0\n",
        "lower = 0\n",
        "for i in user:\n",
        "  if 65<ord(i)<90:\n",
        "    upper +=1\n",
        "  else:\n",
        "    lower +=1\n",
        "\n",
        "if upper > lower:\n",
        "  print(user.upper())\n",
        "else:\n",
        "  print(user.lower())"
      ]
    },
    {
      "cell_type": "code",
      "execution_count": null,
      "metadata": {
        "colab": {
          "base_uri": "https://localhost:8080/"
        },
        "id": "atcBaag6lFt2",
        "outputId": "99582f60-f23c-490c-c73b-92e35dc202b5"
      },
      "outputs": [
        {
          "name": "stdout",
          "output_type": "stream",
          "text": [
            "Enter a string: 213213\n",
            "NUMBER\n"
          ]
        }
      ],
      "source": [
        "#2\n",
        "string = input(\"Enter a string: \")\n",
        "\n",
        "if string.isdigit():\n",
        "    print(\"NUMBER\")\n",
        "elif string.isalpha():\n",
        "    print(\"WORD\")\n",
        "else:\n",
        "    print(\"MIXED\")"
      ]
    },
    {
      "cell_type": "code",
      "execution_count": null,
      "metadata": {
        "colab": {
          "base_uri": "https://localhost:8080/"
        },
        "id": "FtRcOjRknkcB",
        "outputId": "ea31e1e5-01af-4ff9-9427-40ba38ff6716"
      },
      "outputs": [
        {
          "name": "stdout",
          "output_type": "stream",
          "text": [
            "Enter a string: djciej123\n",
            "MIXED\n"
          ]
        }
      ],
      "source": [
        "#2(alternate way)\n",
        "user =input(\"Enter a string: \")\n",
        "num = 0\n",
        "word = 0\n",
        "for i in user:\n",
        "  if 65<=ord(i)<=90 or 97<=ord(i)<=122:\n",
        "    word +=1\n",
        "  else:\n",
        "    num +=1\n",
        "\n",
        "if num == len(user):\n",
        "  print(\"NUMBER\")\n",
        "elif word == len(user):\n",
        "  print(\"WORD\")\n",
        "else:\n",
        "  print(\"MIXED\")"
      ]
    },
    {
      "cell_type": "code",
      "execution_count": null,
      "metadata": {
        "colab": {
          "base_uri": "https://localhost:8080/"
        },
        "id": "ICKWio4zJ-aa",
        "outputId": "2b00e6ac-0de8-4310-e27d-aa52fd40e5e2"
      },
      "outputs": [
        {
          "name": "stdout",
          "output_type": "stream",
          "text": [
            "Enter a string: baNgladEsh\n",
            "glad\n"
          ]
        }
      ],
      "source": [
        "#3\n",
        "user = input(\"Enter a string: \")\n",
        "pos = 0\n",
        "for i in user:\n",
        "  if 65<= ord(i) <=90:\n",
        "    break\n",
        "  else:\n",
        "    pos += 1\n",
        "    pass\n",
        "\n",
        "user1 = user[pos+1:len(user)]\n",
        "emp_str = ''\n",
        "for j in user1:\n",
        "  if 65<=ord(j)<=90:\n",
        "    break\n",
        "  else:\n",
        "    emp_str += j\n",
        "\n",
        "if len(emp_str) == 0:\n",
        "  print(\"BLANK\")\n",
        "else:\n",
        "  print(emp_str)"
      ]
    },
    {
      "cell_type": "code",
      "execution_count": null,
      "metadata": {
        "colab": {
          "base_uri": "https://localhost:8080/"
        },
        "id": "JDxV2r94Zb6v",
        "outputId": "0d471b0d-c36f-4023-f07c-e66e7ecc5ae3"
      },
      "outputs": [
        {
          "name": "stdout",
          "output_type": "stream",
          "text": [
            "Enter a string: harry, hermione\n",
            "hrrhr\n"
          ]
        }
      ],
      "source": [
        "#4\n",
        "user = input(\"Enter a string: \")\n",
        "emp1 = ''\n",
        "pos = 0\n",
        "for i in user:\n",
        "  if i == \",\":\n",
        "    break\n",
        "  else:\n",
        "    emp1 += i\n",
        "    pos +=1\n",
        "\n",
        "new = user[pos+2:len(user)]\n",
        "emp2 = ''\n",
        "emp3 = ''\n",
        "for j in range(len(emp1)):\n",
        "  for k in range(len(new)):\n",
        "    if emp1[j] == new[k] and new[k] not in emp3:\n",
        "      emp3 += new[k]\n",
        "\n",
        "for j in range(len(emp1)):\n",
        "  for k in range(len(new)):\n",
        "    if emp1[j] == new[k]:\n",
        "      emp2 += emp1[j]\n",
        "\n",
        "if len(emp2) > 1:\n",
        "  print(emp2+emp3)\n",
        "else:\n",
        "  print(\"Nothing in common.\")"
      ]
    },
    {
      "cell_type": "code",
      "execution_count": null,
      "metadata": {
        "colab": {
          "base_uri": "https://localhost:8080/"
        },
        "id": "GKSX8-ob-BdM",
        "outputId": "43705768-50c1-4d59-9295-7e63ed0230e1"
      },
      "outputs": [
        {
          "name": "stdout",
          "output_type": "stream",
          "text": [
            "Enter your password: OhMyBR@CU20\n",
            "2\n",
            "6\n",
            "2\n",
            "1\n",
            "OK\n"
          ]
        }
      ],
      "source": [
        "#5\n",
        "user = input(\"Enter your password: \")\n",
        "lower = 0\n",
        "upper = 0\n",
        "digit = 0\n",
        "special = 0\n",
        "for i in user:\n",
        "  if 65<=ord(i)<=90:\n",
        "    upper += 1\n",
        "  elif 97<=ord(i)<=122:\n",
        "    lower += 1\n",
        "  elif 48<=ord(i)<=57:\n",
        "    digit +=1\n",
        "  elif 32<=ord(i)<=47 or 58<=ord(i)<=64:\n",
        "    special +=1\n",
        "\n",
        "if upper>=1 and lower>=1 and digit<1 and special>=1:\n",
        "  print(\"Digit missing\")\n",
        "elif upper<1 and lower>1 and digit<1 and special<1:\n",
        "  print(\"Uppercase character missing, Digit missing, Special character missing\")\n",
        "elif upper>=1 and lower>=1 and digit>=1 and special>=1:\n",
        "  print(\"OK\")\n",
        "else:\n",
        "  pass"
      ]
    },
    {
      "cell_type": "markdown",
      "metadata": {
        "id": "IUNq9EILf7dW"
      },
      "source": [
        "#list\n"
      ]
    },
    {
      "cell_type": "code",
      "execution_count": null,
      "metadata": {
        "colab": {
          "base_uri": "https://localhost:8080/"
        },
        "id": "LcBF6LlpGYUy",
        "outputId": "ceb0fc44-cc22-4bff-f742-491fd838c0c6"
      },
      "outputs": [
        {
          "name": "stdout",
          "output_type": "stream",
          "text": [
            "10\n",
            "20\n",
            "20\n",
            "30\n",
            "10\n",
            "50\n",
            "90\n",
            "STOP\n",
            "10 - 2 times\n",
            "20 - 2 times\n",
            "30 - 1 times\n",
            "50 - 1 times\n",
            "90 - 1 times\n"
          ]
        }
      ],
      "source": [
        "#1\n",
        "new = []\n",
        "while True:\n",
        "  user = input()\n",
        "  if user == \"STOP\":\n",
        "    break\n",
        "  else:\n",
        "    new.append(int(user))\n",
        "\n",
        "new1 = []\n",
        "for i in new:\n",
        "  if i not in new1:\n",
        "    new1.append(i)\n",
        "\n",
        "for j in new1:\n",
        "    count = new.count(j)\n",
        "    print(\"{} - {} times\".format(j,count))"
      ]
    },
    {
      "cell_type": "code",
      "execution_count": null,
      "metadata": {
        "colab": {
          "base_uri": "https://localhost:8080/"
        },
        "id": "oE3qXESXEohX",
        "outputId": "d4ab8af1-48ac-4e1c-bf72-24e9d440ae6f"
      },
      "outputs": [
        {
          "name": "stdout",
          "output_type": "stream",
          "text": [
            "Enter list num: 4\n",
            "1 2 3\n",
            "4 5 6\n",
            "10 11 12\n",
            "7 8 9\n",
            "Highest number:  33\n",
            "The list:  [10, 11, 12]\n"
          ]
        }
      ],
      "source": [
        "#2\n",
        "n = int(input(\"Enter list num: \"))\n",
        "new = None\n",
        "sum = 0\n",
        "\n",
        "for i in range(n):\n",
        "  user = input().split()\n",
        "  total = 0\n",
        "  for j in range(len(user)):\n",
        "    user[j] = int(user[j])\n",
        "    total += user[j]\n",
        "  if total > sum:\n",
        "    sum = total\n",
        "    new = user\n",
        "\n",
        "print(\"Highest number: \",sum)\n",
        "print(\"The list: \",new)"
      ]
    },
    {
      "cell_type": "code",
      "execution_count": null,
      "metadata": {
        "colab": {
          "base_uri": "https://localhost:8080/"
        },
        "id": "fq-si7O0Mpry",
        "outputId": "9b06f710-2aaa-42a8-feb1-ad9e4d881869"
      },
      "outputs": [
        {
          "name": "stdout",
          "output_type": "stream",
          "text": [
            "[6, 8, 10, 9, 12, 15, 18, 24, 30]\n"
          ]
        }
      ],
      "source": [
        "#3\n",
        "list1 = [2,3,6]\n",
        "list2 = [3,4,5]\n",
        "new = []\n",
        "for i in range(len(list1)):\n",
        "  for j in range(len(list2)):\n",
        "    new.append(list1[i]*list2[j])\n",
        "print(new)"
      ]
    },
    {
      "cell_type": "code",
      "execution_count": null,
      "metadata": {
        "colab": {
          "base_uri": "https://localhost:8080/"
        },
        "id": "RADv5LzzONJG",
        "outputId": "bf485d2f-f05d-48e4-8438-a8908a5de8b3"
      },
      "outputs": [
        {
          "name": "stdout",
          "output_type": "stream",
          "text": [
            "1 4 2 3\n",
            "UB Jumper\n",
            "2 1 4 6 10\n",
            "UB Jumper\n",
            "1 4 2 -1 6\n",
            "Not UB Jumper\n",
            "STOP\n"
          ]
        }
      ],
      "source": [
        "#4\n",
        "\n",
        "while True:\n",
        "  user = input()\n",
        "  if user == \"STOP\":\n",
        "    break\n",
        "  user1 = user.split(\" \")\n",
        "  new = []\n",
        "  for i in user1:\n",
        "    new.append(int(i))\n",
        "    length = len(new)\n",
        "    count = 0\n",
        "    for j in range(length):\n",
        "      if j > 0:\n",
        "        if (-(length-1) <= (new[j] - new[j-1]) <= (length-1)):\n",
        "          count += 1\n",
        "  if count == length - 1:\n",
        "    print(\"UB Jumper\")\n",
        "  else:\n",
        "    print(\"Not UB Jumper\")"
      ]
    },
    {
      "cell_type": "code",
      "execution_count": null,
      "metadata": {
        "id": "VGl1_lKURcqL"
      },
      "outputs": [],
      "source": [
        "#5\n"
      ]
    },
    {
      "cell_type": "markdown",
      "metadata": {
        "id": "ISEASK_DRguV"
      },
      "source": [
        "#Dictionary & Tuple"
      ]
    },
    {
      "cell_type": "code",
      "execution_count": null,
      "metadata": {
        "colab": {
          "base_uri": "https://localhost:8080/"
        },
        "id": "GhE34se_Rh79",
        "outputId": "7ba1591f-fc91-4977-f660-17dab0f5ca09"
      },
      "outputs": [
        {
          "name": "stdout",
          "output_type": "stream",
          "text": [
            "a: 100, b: 100, c: 200, d: 300\n",
            "a: 300, b: 200, d: 400, e: 200\n",
            "{'a': 400, ' b': 300, ' c': 200, ' d': 700, ' e': 200}\n",
            "(200, 300, 400, 700)\n"
          ]
        }
      ],
      "source": [
        "#1\n",
        "in1 = input().split(\",\")\n",
        "in2 = input().split(\",\")\n",
        "dict1 = {}\n",
        "dict2 = {}\n",
        "dict3 = {}\n",
        "\n",
        "for i in range(len(in1)):\n",
        "  num1 = in1[i]\n",
        "  pos = 0\n",
        "  for j in range(len(num1)):\n",
        "    if num1[j] == \":\":\n",
        "      pos = j\n",
        "      break\n",
        "    else:\n",
        "      pass\n",
        "  dict1[num1[0:pos]] = int(num1[pos+2:len(num1)+1])\n",
        "\n",
        "for k in range(len(in2)):\n",
        "  num2 = in2[k]\n",
        "  pos = 0\n",
        "  for l in range(len(num2)):\n",
        "    if num2[l] == \":\":\n",
        "      pos = l\n",
        "      break\n",
        "    else:\n",
        "      pass\n",
        "  dict2[num2[0:pos]] = int(num2[pos+2:len(num2)+1])\n",
        "\n",
        "for key in dict1.keys():\n",
        "  if key in dict2:\n",
        "    dict3[key] = dict1[key] + dict2[key]\n",
        "  else:\n",
        "    dict3[key] = dict1[key]\n",
        "\n",
        "for key in dict2.keys():\n",
        "  if key not in dict1:\n",
        "    dict3[key] = dict2[key]\n",
        "\n",
        "print(dict3)\n",
        "\n",
        "list1 = []\n",
        "for value in dict3.values():\n",
        "  list1.append(value)\n",
        "\n",
        "print(tuple(sorted(set(list1))))\n",
        "\n",
        "#Input:\n",
        "#dict1 = a: 100, b: 100, c: 200, d: 300\n",
        "#dict2 = a: 300, b: 200, d: 400, e: 200"
      ]
    },
    {
      "cell_type": "code",
      "execution_count": null,
      "metadata": {
        "colab": {
          "base_uri": "https://localhost:8080/"
        },
        "id": "pmoEitzg5ovz",
        "outputId": "8f89197f-f2c8-494e-cc56-a887e5e64616"
      },
      "outputs": [
        {
          "name": "stdout",
          "output_type": "stream",
          "text": [
            "10\n",
            "20\n",
            "20\n",
            "30\n",
            "10\n",
            "50\n",
            "90\n",
            "STOP\n",
            "10 - 2 times\n",
            "20 - 2 times\n",
            "30 - 1 times\n",
            "50 - 1 times\n",
            "90 - 1 times\n"
          ]
        }
      ],
      "source": [
        "#2\n",
        "new = []\n",
        "while True:\n",
        "  user = input()\n",
        "  if user == \"STOP\":\n",
        "    break\n",
        "  else:\n",
        "    new.append(user)\n",
        "\n",
        "new1 = {}\n",
        "for i in new:\n",
        "  if i not in new1:\n",
        "    new1[i] = 1\n",
        "  else:\n",
        "    new1[i]+=1\n",
        "\n",
        "for key,value in new1.items():\n",
        "  print(\"{} - {} times\".format(key,value))"
      ]
    },
    {
      "cell_type": "code",
      "execution_count": null,
      "metadata": {
        "colab": {
          "base_uri": "https://localhost:8080/"
        },
        "id": "eVGX0HjW8e0i",
        "outputId": "daa01430-ee31-45ab-d301-e5ab3bbecb10"
      },
      "outputs": [
        {
          "name": "stdout",
          "output_type": "stream",
          "text": [
            "key1 : value1, key2 : value2, key3 : value1\n",
            "{'value1': ['key1', 'key3'], 'value2': ['key2']}\n"
          ]
        }
      ],
      "source": [
        "#3\n",
        "user = input().split(\",\")\n",
        "dict1 = {}\n",
        "for i in user:\n",
        "  key, value = i.strip().split(\":\")\n",
        "  dict1[key.strip()] = value.strip()\n",
        "\n",
        "dict2 = {}\n",
        "for key,value in dict1.items():\n",
        "  if value not in dict2:\n",
        "    dict2[value] = [key]\n",
        "  else:\n",
        "    dict2[value].append(key)\n",
        "\n",
        "print(dict2)"
      ]
    },
    {
      "cell_type": "code",
      "execution_count": null,
      "metadata": {
        "colab": {
          "base_uri": "https://localhost:8080/"
        },
        "id": "1br3ZTb65mMD",
        "outputId": "9a3278e6-dba7-430a-aa82-434bd9b85569"
      },
      "outputs": [
        {
          "name": "stdout",
          "output_type": "stream",
          "text": [
            "Enter a message: Hello, world!\n",
            "4433555555666110966677755531111\n"
          ]
        }
      ],
      "source": [
        "def generate_key_presses(message):\n",
        "    # Define the dictionary mapping letters/symbols to key presses\n",
        "    key_mapping = {\n",
        "        'A': '2', 'B': '22', 'C': '222',\n",
        "        'D': '3', 'E': '33', 'F': '333',\n",
        "        'G': '4', 'H': '44', 'I': '444',\n",
        "        'J': '5', 'K': '55', 'L': '555',\n",
        "        'M': '6', 'N': '66', 'O': '666',\n",
        "        'P': '7', 'Q': '77', 'R': '777', 'S': '7777',\n",
        "        'T': '8', 'U': '88', 'V': '888',\n",
        "        'W': '9', 'X': '99', 'Y': '999', 'Z': '9999',\n",
        "        ' ': '0',\n",
        "        '.': '1', ',': '11', '?': '111', '!': '1111', ':': '11111'\n",
        "    }\n",
        "\n",
        "    # Convert the message to uppercase\n",
        "    message = message.upper()\n",
        "\n",
        "    # Generate the key presses for each character in the message\n",
        "    key_presses = ''\n",
        "    for char in message:\n",
        "        if char in key_mapping:\n",
        "            key_presses += key_mapping[char]\n",
        "\n",
        "    return key_presses\n",
        "\n",
        "\n",
        "# Get user input\n",
        "user_input = input(\"Enter a message: \")\n",
        "\n",
        "# Generate and display the key presses\n",
        "key_presses = generate_key_presses(user_input)\n",
        "print(key_presses)\n"
      ]
    },
    {
      "cell_type": "code",
      "execution_count": null,
      "metadata": {
        "colab": {
          "base_uri": "https://localhost:8080/"
        },
        "id": "C5azvQhr6kMp",
        "outputId": "c2b099ee-802b-4c9c-809f-a7c824628c3a"
      },
      "outputs": [
        {
          "name": "stdout",
          "output_type": "stream",
          "text": [
            "Enter a message: Hello, world!\n",
            "4433555555666110966677755531111\n"
          ]
        }
      ],
      "source": [
        "key_mapping = {\n",
        "    'A': '2', 'B': '22', 'C': '222',\n",
        "    'D': '3', 'E': '33', 'F': '333',\n",
        "    'G': '4', 'H': '44', 'I': '444',\n",
        "    'J': '5', 'K': '55', 'L': '555',\n",
        "    'M': '6', 'N': '66', 'O': '666',\n",
        "    'P': '7', 'Q': '77', 'R': '777', 'S': '7777',\n",
        "    'T': '8', 'U': '88', 'V': '888',\n",
        "    'W': '9', 'X': '99', 'Y': '999', 'Z': '9999',\n",
        "    ' ': '0',\n",
        "    '.': '1', ',': '11', '?': '111', '!': '1111', ':': '11111'\n",
        "}\n",
        "\n",
        "user_input = input(\"Enter a message: \")\n",
        "user_input = user_input.upper()\n",
        "key_presses = ''\n",
        "for char in user_input:\n",
        "    if char in key_mapping:\n",
        "        key_presses += key_mapping[char]\n",
        "\n",
        "print(key_presses)"
      ]
    },
    {
      "cell_type": "code",
      "execution_count": null,
      "metadata": {
        "colab": {
          "base_uri": "https://localhost:8080/"
        },
        "id": "yds84GaZ6-0v",
        "outputId": "9140221f-2635-4709-c4cd-bca735039f45"
      },
      "outputs": [
        {
          "name": "stdout",
          "output_type": "stream",
          "text": [
            "hello, world!\n",
            "4433555555666110966677755531111\n"
          ]
        }
      ],
      "source": [
        "keypad = {\n",
        "    'A': '2', 'B': '22', 'C': '222',\n",
        "    'D': '3', 'E': '33', 'F': '333',\n",
        "    'G': '4', 'H': '44', 'I': '444',\n",
        "    'J': '5', 'K': '55', 'L': '555',\n",
        "    'M': '6', 'N': '66', 'O': '666',\n",
        "    'P': '7', 'Q': '77', 'R': '777', 'S': '7777',\n",
        "    'T': '8', 'U': '88', 'V': '888',\n",
        "    'W': '9', 'X': '99', 'Y': '999', 'Z': '9999',\n",
        "    ' ': '0',\n",
        "    '.': '1', ',': '11', '?': '111', '!': '1111', ':': '11111'\n",
        "}\n",
        "\n",
        "user = input().upper()\n",
        "sum = ''\n",
        "for i in user:\n",
        "  if i in keypad:\n",
        "    sum = sum + keypad[i]\n",
        "  else:\n",
        "    pass\n",
        "print(sum)\n",
        "\n",
        "#4433555555666110966677755531111"
      ]
    },
    {
      "cell_type": "markdown",
      "metadata": {
        "id": "YzFHrWxvAdQ_"
      },
      "source": [
        "#STRING PROBLEMS\n"
      ]
    },
    {
      "cell_type": "code",
      "execution_count": null,
      "metadata": {
        "colab": {
          "base_uri": "https://localhost:8080/"
        },
        "id": "XdF7IoVZBrw4",
        "outputId": "6511f53c-a8ec-4a82-bf05-bdc0a6e530ba"
      },
      "outputs": [
        {
          "name": "stdout",
          "output_type": "stream",
          "text": [
            "{'g': 2, 'o': 3, 'l': 1, 'e': 1, '.': 1, 'c': 1, 'm': 1}\n"
          ]
        }
      ],
      "source": [
        "#input = google.com\n",
        "\n",
        "user = \"google.com\"\n",
        "dict1 = {}\n",
        "for i in user:\n",
        "  if i not in dict1:\n",
        "    dict1[i] = 1\n",
        "  else:\n",
        "    dict1[i] = dict1[i] + 1\n",
        "print(dict1)"
      ]
    },
    {
      "cell_type": "code",
      "execution_count": null,
      "metadata": {
        "colab": {
          "base_uri": "https://localhost:8080/"
        },
        "id": "iBYVOg0fCSVP",
        "outputId": "ff1ac432-1ef1-40f5-e44d-70450761e5cc"
      },
      "outputs": [
        {
          "name": "stdout",
          "output_type": "stream",
          "text": [
            "w3resource\n",
            "w3ce\n"
          ]
        }
      ],
      "source": [
        "user = input()\n",
        "\n",
        "if len(user) >= 2:\n",
        "  first1 = user[0:2]\n",
        "  last1 = user[len(user)-2:]\n",
        "  sum = first1 + last1\n",
        "elif len(user) < 2:\n",
        "  pass\n",
        "\n",
        "print(sum)"
      ]
    },
    {
      "cell_type": "code",
      "execution_count": null,
      "metadata": {
        "colab": {
          "base_uri": "https://localhost:8080/"
        },
        "id": "PHQD3jUoD6e6",
        "outputId": "d0737b45-1309-430f-ac58-e690b17e75f1"
      },
      "outputs": [
        {
          "name": "stdout",
          "output_type": "stream",
          "text": [
            "resta$t\n"
          ]
        }
      ],
      "source": [
        "user = \"restart\"\n",
        "x = user[0]\n",
        "emp_str = ''+x\n",
        "\n",
        "for i in range(1,len(user)):\n",
        "  if user[i] == x:\n",
        "    emp_str += \"$\"\n",
        "  else:\n",
        "    emp_str += user[i]\n",
        "print(emp_str)"
      ]
    },
    {
      "cell_type": "code",
      "execution_count": null,
      "metadata": {
        "colab": {
          "base_uri": "https://localhost:8080/"
        },
        "id": "Wy7TwvV4KBxd",
        "outputId": "929e93a8-e67c-43d3-fa25-2f017eb7119c"
      },
      "outputs": [
        {
          "name": "stdout",
          "output_type": "stream",
          "text": [
            "restart\n",
            "r\n",
            "resta$t\n"
          ]
        }
      ],
      "source": [
        "user = input()\n",
        "user1 = input()\n",
        "emp_str = ''\n",
        "pos = 0\n",
        "\n",
        "for i in range(len(user)):\n",
        "    if user[i] == user1:\n",
        "        emp_str += user[i]\n",
        "        pos = i\n",
        "        break\n",
        "    else:\n",
        "        emp_str += user[i]\n",
        "\n",
        "for j in range(pos+1,len(user)):\n",
        "    if user[j] == user1:\n",
        "        emp_str += \"$\"\n",
        "    else:\n",
        "        emp_str += user[j]\n",
        "\n",
        "print(emp_str)"
      ]
    },
    {
      "cell_type": "code",
      "execution_count": null,
      "metadata": {
        "colab": {
          "base_uri": "https://localhost:8080/"
        },
        "id": "LtMXZHO9vdt1",
        "outputId": "7dcc2572-6f98-48f2-fc6e-b1edc805b194"
      },
      "outputs": [
        {
          "name": "stdout",
          "output_type": "stream",
          "text": [
            "The ChE Department has 5 sections.\n",
            "1-----------------------------------\n",
            "The MME Department has 5 sections.\n",
            "2-----------------------------------\n",
            "The NCE Department has 8 sections.\n",
            "3-----------------------------------\n",
            "The ChE Department has an average of 20.4 students in each section.\n",
            "4-----------------------------------\n",
            "The MME Department doesn't have 3 sections.\n",
            "5-----------------------------------\n",
            "The NCE Department has an average of 29.88 students in each section.\n",
            "6-----------------------------------\n",
            "The Engineering Department has 10 sections.\n",
            "7-----------------------------------\n",
            "The Engineering Department has an average of 30.7 students in each section.\n",
            "8-----------------------------------\n",
            "ChE Department is merged to Engineering Department.\n",
            "MME Department is merged to Engineering Department.\n",
            "Now the Engineering Department has an average of 40.9 students in each section.\n",
            "9-----------------------------------\n",
            "NCE Department is merged to Engineering Department.\n",
            "Now the Engineering Department has an average of 64.8 students in each section.\n"
          ]
        }
      ],
      "source": [
        "class Department:\n",
        "  def __init__(self, dept = \"ChE Department\", section = 5):\n",
        "    self.dept = dept\n",
        "    self.section = section\n",
        "    self.avg = 0\n",
        "    self.total = 0\n",
        "    print(f\"The {self.dept} has {self.section} sections.\")\n",
        "\n",
        "  def add_students(self, *sections):\n",
        "    if len(sections) == self.section:\n",
        "      sum = 0\n",
        "      for i in sections:\n",
        "        sum += i\n",
        "      avg = round(sum/self.section, 2)\n",
        "      self.avg = avg\n",
        "      print(f\"The {self.dept} has an average of {avg} students in each section.\")\n",
        "    else:\n",
        "      print(f\"The {self.dept} doesn't have {len(sections)} sections.\")\n",
        "\n",
        "  def merge_Department(self, *merge):\n",
        "    final = ''\n",
        "    total = 0\n",
        "    for i in range(len(merge)):\n",
        "      if i == (len(merge) - 1):\n",
        "        final += f\"{merge[i].dept} is merged to {self.dept}.\"\n",
        "        total += merge[i].avg*merge[i].section\n",
        "      else:\n",
        "        final += f\"{merge[i].dept} is merged to {self.dept}.\\n\"\n",
        "        total += merge[i].avg*merge[i].section\n",
        "    self.total += total\n",
        "    total_dpt_avg = round((self.total+(self.avg*self.section))/self.section,2)\n",
        "    return f\"{final}\\nNow the {self.dept} has an average of {total_dpt_avg} students in each section.\"\n",
        "\n",
        "d1 = Department()\n",
        "print('1-----------------------------------')\n",
        "d2 = Department('MME Department')\n",
        "print('2-----------------------------------')\n",
        "d3 = Department('NCE Department', 8)\n",
        "print('3-----------------------------------')\n",
        "d1.add_students(12, 23, 12, 34, 21)\n",
        "print('4-----------------------------------')\n",
        "d2.add_students(40, 30, 21)\n",
        "print('5-----------------------------------')\n",
        "d3.add_students(12, 34, 41, 17, 30, 22, 32, 51)\n",
        "print('6-----------------------------------')\n",
        "mega = Department('Engineering Department',\n",
        "10)\n",
        "print('7-----------------------------------')\n",
        "mega.add_students(21,30,40,36,10,32,27,51,45,15)\n",
        "print('8-----------------------------------')\n",
        "print(mega.merge_Department(d1, d2))\n",
        "print('9-----------------------------------')\n",
        "print(mega.merge_Department(d3))"
      ]
    },
    {
      "cell_type": "code",
      "execution_count": null,
      "metadata": {
        "colab": {
          "base_uri": "https://localhost:8080/"
        },
        "id": "14DfM-GDS6NV",
        "outputId": "581607ea-2f84-4ae9-865e-f9cbf7dda996"
      },
      "outputs": [
        {
          "name": "stdout",
          "output_type": "stream",
          "text": [
            "10\n",
            "0 1 1 2 3 5 8 "
          ]
        }
      ],
      "source": [
        "end = int(input())\n",
        "num1 = 0\n",
        "num2 = 1\n",
        "sum = 0\n",
        "for i in range(0,end):\n",
        "  if sum > end:\n",
        "    break\n",
        "  else:\n",
        "    print(sum, end= \" \")\n",
        "    num1 = num2\n",
        "    num2 = sum\n",
        "    sum = num1 + num2\n",
        "\n"
      ]
    },
    {
      "cell_type": "code",
      "execution_count": null,
      "metadata": {
        "colab": {
          "base_uri": "https://localhost:8080/"
        },
        "id": "RelVeyxPKerN",
        "outputId": "388ae660-bcd4-4476-b320-972d14426607"
      },
      "outputs": [
        {
          "name": "stdout",
          "output_type": "stream",
          "text": [
            "Enter a decimal integer: 11\n",
            "1011\n"
          ]
        }
      ],
      "source": [
        "#Task 26\n",
        "user = int(input(\"Enter a decimal integer: \"))\n",
        "\n",
        "total = \"\"\n",
        "while user > 0:\n",
        "    total = total + str(user % 2)\n",
        "    user = user//2\n",
        "print(total[-1:-len(total)-1:-1])"
      ]
    },
    {
      "cell_type": "code",
      "execution_count": null,
      "metadata": {
        "colab": {
          "base_uri": "https://localhost:8080/"
        },
        "id": "Om5afeQMNSlw",
        "outputId": "e3605a71-6add-443a-fffa-77d0d982e4b5"
      },
      "outputs": [
        {
          "name": "stdout",
          "output_type": "stream",
          "text": [
            "Enter a binary number: 11101\n",
            "29\n"
          ]
        }
      ],
      "source": [
        "#Task 27\n",
        "user = int(input(\"Enter a binary number: \"))\n",
        "user1 = str(user)\n",
        "total = 0\n",
        "decrement = 1\n",
        "for i in range(len(user1)):\n",
        "  var = 2**(len(user1)- decrement)*int(user1[i])\n",
        "  total += var\n",
        "  decrement += 1\n",
        "print(total)"
      ]
    },
    {
      "cell_type": "markdown",
      "metadata": {
        "id": "24ybK7fjLNBL"
      },
      "source": [
        "#SUMMER 22 (MID Question)"
      ]
    },
    {
      "cell_type": "code",
      "execution_count": null,
      "metadata": {
        "colab": {
          "base_uri": "https://localhost:8080/"
        },
        "id": "1x2ZfT8zJM6W",
        "outputId": "dd501652-c02e-4d7b-97c7-6ab04cc05a83"
      },
      "outputs": [
        {
          "name": "stdout",
          "output_type": "stream",
          "text": [
            "Exam Type: Midterm\n",
            "Number of questions: 2\n",
            "Marks per questions: 10\n",
            "Total Marks: 20\n",
            "===========================\n",
            "Exam Type: Final\n",
            "Number of questions: 3\n",
            "Marks per questions: 10\n",
            "Total Marks: 30\n"
          ]
        }
      ],
      "source": [
        "class Exam:\n",
        "  def __init__(self, name, q, m):\n",
        "    self.typee = name\n",
        "    self.question = q\n",
        "    self.marks = m\n",
        "    self.t_mark = self.question*self.marks\n",
        "\n",
        "  def detail(self):\n",
        "    return f\"Exam Type: {self.typee}\\nNumber of questions: {self.question}\\nMarks per questions: {self.marks}\\nTotal Marks: {self.t_mark}\"\n",
        "\n",
        "e1 = Exam('Midterm', 2, 10)\n",
        "print(e1.detail())\n",
        "print(\"===========================\")\n",
        "e2 = Exam('Final', 3, 10)\n",
        "print(e2.detail())"
      ]
    },
    {
      "cell_type": "code",
      "execution_count": null,
      "metadata": {
        "colab": {
          "base_uri": "https://localhost:8080/"
        },
        "id": "Sue2e1nZLMN4",
        "outputId": "bf4ec348-dce8-4aac-ef45-79431a114265"
      },
      "outputs": [
        {
          "name": "stdout",
          "output_type": "stream",
          "text": [
            "1.############################\n",
            "ID Cable Box Status:\n",
            "Cable Box is: ON\n",
            "Channel:0\n",
            "Volume:3\n",
            "2.############################\n",
            "ID Cable Box Status:\n",
            "Cable Box is: ON\n",
            "Channel:2\n",
            "Volume:4\n",
            "3.############################\n",
            "ID Cable Box Status:\n",
            "Cable Box is: OFF\n",
            "4.############################\n",
            "ID Cable Box Status:\n",
            "Cable Box is: ON\n",
            "Channel:3\n",
            "Volume:8\n",
            "5.############################\n",
            "ID Cable Box Status:\n",
            "Cable Box is: ON\n",
            "Channel:3\n",
            "Volume:6\n",
            "6.############################\n",
            "Power is turned off. Cannot change channel.\n",
            "Power is turned off. Cannot change volume.\n",
            "ID Cable Box Status:\n",
            "Cable Box is: OFF\n",
            "7.############################\n",
            "TV channel does not exist.\n",
            "ID Cable Box Status:\n",
            "Cable Box is: ON\n",
            "Channel:3\n",
            "Volume:6\n"
          ]
        }
      ],
      "source": [
        "class RickMote:\n",
        "  def __init__(self):\n",
        "    self.CB = ''\n",
        "    self.channel = 0\n",
        "    self.volume = 3\n",
        "    self.power_count = 0\n",
        "    self.Channel_num = [0,2,3,6,7,9]\n",
        "\n",
        "  def power(self):\n",
        "    if self.power_count == 0:\n",
        "      self.power_count += 1\n",
        "    else:\n",
        "      self.power_count -= 1\n",
        "\n",
        "  def changeChannel(self,x=0):\n",
        "    if x!=0:\n",
        "      if self.power_count == 1:\n",
        "       if x in self.Channel_num:\n",
        "          self.channel=x\n",
        "       else:\n",
        "          print(f\"TV channel does not exist.\")\n",
        "      else:\n",
        "        print(f\"Power is turned off. Cannot change channel.\")\n",
        "    else:\n",
        "      if self.power_count == 1:\n",
        "        for i in range(0,len(self.Channel_num)):\n",
        "          if self.channel==self.Channel_num[i]:\n",
        "            self.channel=self.Channel_num[i+1]\n",
        "            break\n",
        "\n",
        "  def changeVolumeLevel(self,n=0):\n",
        "    if n!=0:\n",
        "      if self.power_count == 1:\n",
        "        self.volume+=n\n",
        "      else:\n",
        "        print(f\"Power is turned off. Cannot change volume.\")\n",
        "    else:\n",
        "      self.volume+=1\n",
        "\n",
        "  def showInfo(self):\n",
        "    print(\"ID Cable Box Status:\")\n",
        "    if self.power_count == 1:\n",
        "      self.CB = \"ON\"\n",
        "      print(f\"Cable Box is: {self.CB}\\nChannel:{self.channel}\\nVolume:{self.volume}\")\n",
        "    else:\n",
        "      self.CB = \"OFF\"\n",
        "      print(\"Cable Box is: OFF\")\n",
        "\n",
        "oTV = RickMote()\n",
        "oTV.power()\n",
        "print(\"1.############################\")\n",
        "oTV.showInfo()\n",
        "print(\"2.############################\")\n",
        "oTV.changeChannel()\n",
        "oTV.changeVolumeLevel()\n",
        "oTV.showInfo()\n",
        "print(\"3.############################\")\n",
        "oTV.power()\n",
        "oTV.showInfo()\n",
        "print(\"4.############################\")\n",
        "oTV.power()\n",
        "oTV.changeVolumeLevel(4)\n",
        "oTV.changeChannel(3)\n",
        "oTV.showInfo()\n",
        "print(\"5.############################\")\n",
        "oTV.changeVolumeLevel(-2)\n",
        "oTV.showInfo()\n",
        "print(\"6.############################\")\n",
        "oTV.power()\n",
        "oTV.changeChannel(9)\n",
        "oTV.changeVolumeLevel(-1)\n",
        "oTV.showInfo()\n",
        "print(\"7.############################\")\n",
        "oTV.power()\n",
        "oTV.changeChannel(11)\n",
        "oTV.showInfo()"
      ]
    },
    {
      "cell_type": "code",
      "execution_count": null,
      "metadata": {
        "colab": {
          "base_uri": "https://localhost:8080/"
        },
        "id": "-2I3WSl6ckkd",
        "outputId": "c86a147e-628b-48b4-c6a6-e3992a565e90"
      },
      "outputs": [
        {
          "name": "stdout",
          "output_type": "stream",
          "text": [
            "1.############################\n",
            "ID Cable Box Status:\n",
            "Cable Box is: ON\n",
            "Channel:0\n",
            "Volume:3\n",
            "2.############################\n",
            "ID Cable Box Status:\n",
            "Cable Box is: ON\n",
            "Channel:2\n",
            "Volume:4\n",
            "3.############################\n",
            "ID Cable Box Status:\n",
            "Cable Box is: OFF\n",
            "4.############################\n",
            "ID Cable Box Status:\n",
            "Cable Box is: ON\n",
            "Channel:3\n",
            "Volume:8\n",
            "5.############################\n",
            "ID Cable Box Status:\n",
            "Cable Box is: ON\n",
            "Channel:3\n",
            "Volume:6\n",
            "6.############################\n",
            "Power is turned off. Cannot change channel.\n",
            "Power is turned off. Cannot change volume.\n",
            "ID Cable Box Status:\n",
            "Cable Box is: OFF\n",
            "7.############################\n",
            "TV channel does not exist.\n",
            "ID Cable Box Status:\n",
            "Cable Box is: ON\n",
            "Channel:3\n",
            "Volume:6\n"
          ]
        }
      ],
      "source": [
        "class RickMote:\n",
        "  def __init__(self):\n",
        "    self.channel=0\n",
        "    self.vol=3\n",
        "    self.pow=\"OFF\"\n",
        "    self.list1=[0,2,3,6,7,9]\n",
        "\n",
        "  def power(self):\n",
        "    if self.pow==\"\":\n",
        "      self.pow=\"ON\"\n",
        "    elif self.pow==\"ON\":\n",
        "      self.pow=\"OFF\"\n",
        "    else:\n",
        "      self.pow=\"ON\"\n",
        "\n",
        "  def showInfo(self):\n",
        "    if self.pow==\"ON\":\n",
        "      print(f\"ID Cable Box Status:\\nCable Box is: {self.pow}\\nChannel:{self.channel}\\nVolume:{self.vol}\")\n",
        "    else:\n",
        "      print(f'ID Cable Box Status:\\nCable Box is: OFF')\n",
        "\n",
        "  def changeChannel(self,n=0):\n",
        "    if n!=0:\n",
        "      if self.pow==\"ON\":\n",
        "       if n in self.list1:\n",
        "          self.channel=n\n",
        "       else:\n",
        "          print(f\"TV channel does not exist.\")\n",
        "      else:\n",
        "        print(f\"Power is turned off. Cannot change channel.\")\n",
        "    else:\n",
        "      if self.pow==\"ON\":\n",
        "\n",
        "        for i in range(0,len(self.list1)):\n",
        "           if self.channel==self.list1[i]:\n",
        "              self.channel=self.list1[i+1]\n",
        "              break\n",
        "\n",
        "  def changeVolumeLevel(self,n=0):\n",
        "    if n!=0:\n",
        "      if self.pow==\"ON\":\n",
        "        self.vol+=n\n",
        "      else:\n",
        "        print(f\"Power is turned off. Cannot change volume.\")\n",
        "    else:\n",
        "      self.vol+=1\n",
        "\n",
        "\n",
        "oTV = RickMote()\n",
        "oTV.power()\n",
        "print(\"1.############################\")\n",
        "oTV.showInfo()\n",
        "print(\"2.############################\")\n",
        "oTV.changeChannel()\n",
        "oTV.changeVolumeLevel()\n",
        "oTV.showInfo()\n",
        "print(\"3.############################\")\n",
        "oTV.power()\n",
        "oTV.showInfo()\n",
        "print(\"4.############################\")\n",
        "oTV.power()\n",
        "oTV.changeVolumeLevel(4)\n",
        "oTV.changeChannel(3)\n",
        "oTV.showInfo()\n",
        "print(\"5.############################\")\n",
        "oTV.changeVolumeLevel(-2)\n",
        "oTV.showInfo()\n",
        "print(\"6.############################\")\n",
        "oTV.power()\n",
        "oTV.changeChannel(9)\n",
        "oTV.changeVolumeLevel(-1)\n",
        "oTV.showInfo()\n",
        "print(\"7.############################\")\n",
        "oTV.power()\n",
        "oTV.changeChannel(11)\n",
        "oTV.showInfo()"
      ]
    },
    {
      "cell_type": "code",
      "execution_count": null,
      "metadata": {
        "colab": {
          "base_uri": "https://localhost:8080/"
        },
        "id": "_6wk8dGvNdok",
        "outputId": "29c4d2ab-392e-466e-fc31-dc09a7675ed9"
      },
      "outputs": [
        {
          "output_type": "stream",
          "name": "stdout",
          "text": [
            "19 1 3\n",
            "4 11 23\n",
            "27 11 41\n"
          ]
        }
      ],
      "source": [
        "class MidA:\n",
        "  def __init__(self):\n",
        "    self.x = 4\n",
        "    self.y = 1\n",
        "    self.sum = 3\n",
        "  def methodA(self, x):\n",
        "    self.y = self.sum + self.x + x\n",
        "    self.sum = x + self.y\n",
        "    d = MidA()\n",
        "    d.sum = self.sum + self.methodB(d)\n",
        "    print(self.x, self.y, self.sum)\n",
        "  def methodB(self, t, z=0):\n",
        "    y = 3\n",
        "    t.x = self.x + self.sum\n",
        "    self.sum = t.x + t.y + y\n",
        "    print(t.x, t.y, t.sum)\n",
        "    if z == 0:\n",
        "      return t.sum\n",
        "\n",
        "a = MidA()\n",
        "a.methodA(4)\n",
        "a.methodB(a, 99)"
      ]
    },
    {
      "cell_type": "code",
      "source": [
        "class MidA:\n",
        "  def __init__(self):\n",
        "    self.y,self.z,self.sum = 2,3,-1\n",
        "\n",
        "  def m1(self, mg2, mg1=2):\n",
        "    x = 0\n",
        "    self.y = self.y + mg2[0]\n",
        "    x += 33 + mg1\n",
        "    self.sum += x + self.y\n",
        "    mg2[0] = self.y + mg1\n",
        "    mg1 = mg1 + x + 2\n",
        "    print(x, self.y, self.sum)\n",
        "  def m2(self, y=3):\n",
        "    mid = [0]\n",
        "    mid[0] = 7\n",
        "    self.m1(mid, mid[0])\n",
        "    z = y + mid[0]\n",
        "    y = self.y + mid[0]\n",
        "    self.sum = z + y + mid[0]\n",
        "    print(z, y, self.sum)\n",
        "a = MidA()\n",
        "a.m1([6])\n",
        "a.m2()"
      ],
      "metadata": {
        "colab": {
          "base_uri": "https://localhost:8080/"
        },
        "id": "rx9311rxR6JL",
        "outputId": "97cfad5d-7876-4871-d609-f693de7b0d3a"
      },
      "execution_count": null,
      "outputs": [
        {
          "output_type": "stream",
          "name": "stdout",
          "text": [
            "35 8 42\n",
            "40 15 97\n",
            "25 37 84\n"
          ]
        }
      ]
    },
    {
      "cell_type": "code",
      "source": [
        "class Batsman:\n",
        "  def __init__(self, name, scored = 0, b_faced = 0):\n",
        "    if isinstance(name, str):\n",
        "      self.name = name\n",
        "      self.scored = scored\n",
        "      self.b_faced = b_faced\n",
        "    else:\n",
        "      self.name = \"New Batsman\"\n",
        "      self.scored = name\n",
        "      self.b_faced = scored\n",
        "\n",
        "  def printCareerStatistics(self):\n",
        "    print(f\"Name: {self.name}\")\n",
        "    print(f\"Runs Scored: {self.scored} , Balls Faced: {self.b_faced}\")\n",
        "\n",
        "  def battingStrikeRate(self):\n",
        "    strike_rate = (self.scored/self.b_faced)*100\n",
        "    return strike_rate\n",
        "\n",
        "  def setName(self, n):\n",
        "    self.name = n\n",
        "\n",
        "b1 = Batsman(6101, 7380)\n",
        "b1.printCareerStatistics()\n",
        "print(\"============================\")\n",
        "b2 = Batsman(\"Liton Das\", 678, 773)\n",
        "b2.printCareerStatistics()\n",
        "print(\"----------------------------\")\n",
        "print(b2.battingStrikeRate())\n",
        "print(\"============================\")\n",
        "b1.setName(\"Shakib Al Hasan\")\n",
        "b1.printCareerStatistics()\n",
        "print(\"----------------------------\")\n",
        "print(b1.battingStrikeRate())\n"
      ],
      "metadata": {
        "colab": {
          "base_uri": "https://localhost:8080/"
        },
        "id": "xZNmEOIQWm4e",
        "outputId": "2c18743d-bcfc-4466-d048-38aade7f9243"
      },
      "execution_count": null,
      "outputs": [
        {
          "output_type": "stream",
          "name": "stdout",
          "text": [
            "Name: New Batsman\n",
            "Runs Scored: 6101 , Balls Faced: 7380\n",
            "============================\n",
            "Name: Liton Das\n",
            "Runs Scored: 678 , Balls Faced: 773\n",
            "----------------------------\n",
            "87.71021992238033\n",
            "============================\n",
            "Name: Shakib Al Hasan\n",
            "Runs Scored: 6101 , Balls Faced: 7380\n",
            "----------------------------\n",
            "82.66937669376694\n"
          ]
        }
      ]
    },
    {
      "cell_type": "code",
      "source": [
        "test_string = \"geekforgeeks\"\n",
        "res = sorted(test_string, reverse=True)\n",
        "print(res)"
      ],
      "metadata": {
        "colab": {
          "base_uri": "https://localhost:8080/"
        },
        "id": "e69oya7ff6Xd",
        "outputId": "d80a4c68-6e97-422c-89a4-a24ec3b8e6d4"
      },
      "execution_count": null,
      "outputs": [
        {
          "output_type": "stream",
          "name": "stdout",
          "text": [
            "['s', 'r', 'o', 'k', 'k', 'g', 'g', 'f', 'e', 'e', 'e', 'e']\n"
          ]
        }
      ]
    },
    {
      "cell_type": "code",
      "source": [
        "#manual sorting\n",
        "user = [1,7,2,9,4]\n",
        "\n",
        "i = 0\n",
        "while i < len(user)-1:\n",
        "  min_index = i\n",
        "  j = min_index +1\n",
        "  while j < len(user):\n",
        "    if user[j] < user[min_index]:\n",
        "      min_index = j\n",
        "    j += 1\n",
        "  if min_index != i:\n",
        "    temp = user[i]\n",
        "    user[i] = user[min_index]\n",
        "    user[min_index] = temp\n",
        "  i +=1\n",
        "print(user)"
      ],
      "metadata": {
        "colab": {
          "base_uri": "https://localhost:8080/"
        },
        "id": "UcwcD22OpgjI",
        "outputId": "dbeed7e7-d273-471a-ab0a-d0ad273d6c34"
      },
      "execution_count": null,
      "outputs": [
        {
          "output_type": "stream",
          "name": "stdout",
          "text": [
            "[1, 2, 4, 7, 9]\n"
          ]
        }
      ]
    },
    {
      "cell_type": "code",
      "source": [
        "user = [1,7,2,9,4]\n",
        "res = sorted(user)\n",
        "print(res)"
      ],
      "metadata": {
        "colab": {
          "base_uri": "https://localhost:8080/"
        },
        "id": "7TjjZIvHxeWQ",
        "outputId": "d14370d8-6199-48dc-becc-1cb2a2e2f021"
      },
      "execution_count": null,
      "outputs": [
        {
          "output_type": "stream",
          "name": "stdout",
          "text": [
            "[1, 2, 4, 7, 9]\n"
          ]
        }
      ]
    },
    {
      "cell_type": "code",
      "source": [
        "class Rickshaw:\n",
        "  def __init__(self, cap = 2):\n",
        "    self.capacity = cap\n",
        "    self.list1 = []\n",
        "    self.ride_km = 0\n",
        "    self.fare = 0\n",
        "\n",
        "  def addpassenger(self, *x):\n",
        "    count = 0\n",
        "    if len(self.list1)>=1:\n",
        "      count = 1\n",
        "    else:\n",
        "      for i in x:\n",
        "        if isinstance(i, str):\n",
        "          self.list1.append(i)\n",
        "        elif isinstance(i, int):\n",
        "          self.ride_km += i\n",
        "\n",
        "    if count == 1:\n",
        "      print(\"Cannnot add ride. alredy booked.\")\n",
        "    else:\n",
        "      print(f\"{len(self.list1)} peoples are ready for riding {self.ride_km} km\")\n",
        "\n",
        "  def droppassenger(self):\n",
        "    self.list1 = []\n",
        "    print(\"all booked seats are dropped.\")\n",
        "    self.fare = self.ride_km*20\n",
        "\n",
        "  def details(self):\n",
        "    return f\"capacity: {self.capacity}\\nperson: {self.list1}\\ntotal fare: {self.fare}\"\n",
        "\n",
        "r1 = Rickshaw()\n",
        "r1.addpassenger(\"shanto\",3)\n",
        "print(\"==============================\")\n",
        "print(r1.details())\n",
        "print(\"==============================\")\n",
        "r1.addpassenger(\"turzo\",\"alif\",\"shaon\",\"riad\",5)\n",
        "print(\"==============================\")\n",
        "r2 = Rickshaw(3)\n",
        "r2.addpassenger(\"turzo\",\"alif\",\"riad\",\"ddddd\",6)\n",
        "print(\"==============================\")\n",
        "print(r2.details())\n",
        "print(\"==============================\")\n",
        "r1.droppassenger()\n",
        "r2.droppassenger()\n",
        "print(\"==============================\")\n",
        "print(r1.details())\n",
        "print(\"==============================\")\n",
        "print(r2.details())"
      ],
      "metadata": {
        "colab": {
          "base_uri": "https://localhost:8080/"
        },
        "id": "-mD--e69J4JQ",
        "outputId": "f2bcc608-a358-4ec4-8f6e-d9cb6071b805"
      },
      "execution_count": null,
      "outputs": [
        {
          "output_type": "stream",
          "name": "stdout",
          "text": [
            "1 peoples are ready for riding 3 km\n",
            "==============================\n",
            "capacity: 2\n",
            "person: ['shanto']\n",
            "total fare: 0\n",
            "==============================\n",
            "Cannnot add ride. alredy booked.\n",
            "==============================\n",
            "4 peoples are ready for riding 6 km\n",
            "==============================\n",
            "capacity: 3\n",
            "person: ['turzo', 'alif', 'riad', 'ddddd']\n",
            "total fare: 0\n",
            "==============================\n",
            "all booked seats are dropped.\n",
            "all booked seats are dropped.\n",
            "==============================\n",
            "capacity: 2\n",
            "person: []\n",
            "total fare: 60\n",
            "==============================\n",
            "capacity: 3\n",
            "person: []\n",
            "total fare: 120\n"
          ]
        }
      ]
    }
  ],
  "metadata": {
    "colab": {
      "provenance": [],
      "authorship_tag": "ABX9TyP3kSuqQnE+8nM8bwVlqRk0",
      "include_colab_link": true
    },
    "kernelspec": {
      "display_name": "Python 3",
      "name": "python3"
    },
    "language_info": {
      "name": "python"
    }
  },
  "nbformat": 4,
  "nbformat_minor": 0
}